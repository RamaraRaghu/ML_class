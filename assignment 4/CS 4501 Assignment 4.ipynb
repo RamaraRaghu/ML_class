{
 "cells": [
  {
   "cell_type": "markdown",
   "metadata": {
    "colab_type": "text",
    "id": "-40VPC7MAGGB"
   },
   "source": [
    "# Assignment 4: Benchmarking Fashion-MNIST with Deep Neural Nets"
   ]
  },
  {
   "cell_type": "markdown",
   "metadata": {
    "colab_type": "text",
    "id": "piFzh10hAGGE"
   },
   "source": [
    "### CS 4501 Machine Learning - Department of Computer Science - University of Virginia\n",
    "\"The original MNIST dataset contains a lot of handwritten digits. Members of the AI/ML/Data Science community love this dataset and use it as a benchmark to validate their algorithms. In fact, MNIST is often the first dataset researchers try. \"If it doesn't work on MNIST, it won't work at all\", they said. \"Well, if it does work on MNIST, it may still fail on others.\" - **Zalando Research, Github Repo.**\"\n",
    "\n",
    "Fashion-MNIST is a dataset from the Zalando's article. Each example is a 28x28 grayscale image, associated with a label from 10 classes. They intend Fashion-MNIST to serve as a direct drop-in replacement for the original MNIST dataset for benchmarking machine learning algorithms.\n",
    "\n",
    "![Here's an example how the data looks (each class takes three-rows):](https://github.com/zalandoresearch/fashion-mnist/raw/master/doc/img/fashion-mnist-sprite.png)\n",
    "\n",
    "In this assignment, you will attempt to benchmark the Fashion-MNIST using Neural Networks. You must use it to train some neural networks on TensorFlow and predict the final output of 10 classes. For deliverables, you must write code in Python and submit this Jupyter Notebook file (.ipynb) to earn a total of 100 pts. You will gain points depending on how you perform in the following sections.\n"
   ]
  },
  {
   "cell_type": "code",
   "execution_count": 2,
   "metadata": {
    "colab": {},
    "colab_type": "code",
    "id": "469YvvIzAGGJ"
   },
   "outputs": [],
   "source": [
    "# You might want to use the following packages\n",
    "import numpy as np\n",
    "import os\n",
    "import tensorflow as tf\n",
    "tf.logging.set_verbosity(tf.logging.ERROR) #reduce annoying warning messages\n",
    "from functools import partial\n",
    "\n",
    "# to make this notebook's output stable across runs\n",
    "def reset_graph(seed=42):\n",
    "    tf.reset_default_graph()\n",
    "    tf.set_random_seed(seed)\n",
    "    np.random.seed(seed)\n"
   ]
  },
  {
   "cell_type": "markdown",
   "metadata": {
    "colab_type": "text",
    "id": "t-PtpH4xAGGG"
   },
   "source": [
    "---\n",
    "## 1. PRE-PROCESSING THE DATA (10 pts)\n",
    "\n",
    "You can load the Fashion MNIST directly from Tensorflow. **Partition of the dataset** so that you will have 50,000 examples for training, 10,000 examples for validation, and 10,000 examples for testing. Also, make sure that you platten out each of examples so that it contains only a 1-D feature vector.\n",
    "\n",
    "Write some code to output the dimensionalities of each partition (train, validation, and test sets).\n",
    "\n"
   ]
  },
  {
   "cell_type": "code",
   "execution_count": 240,
   "metadata": {
    "colab": {},
    "colab_type": "code",
    "id": "Z2-Ilkesfm7Z"
   },
   "outputs": [],
   "source": [
    "# Your code goes here for this section.\n",
    "#fmnist = tf.keras.datasets.fashion_mnist.load_data();\n",
    "(x_train, y_train), (x_test, y_test) = tf.keras.datasets.fashion_mnist.load_data();\n",
    "X_train, X_val, y_train, y_val = x_train[:50000], x_train[50000:], y_train[:50000], y_train[50000:]"
   ]
  },
  {
   "cell_type": "code",
   "execution_count": 241,
   "metadata": {},
   "outputs": [],
   "source": [
    "#turning the examples into a 1-D feature vector\n",
    "#X_train = X_train.flatten().reshape(-1,28*28)\n",
    "#X_val = X_val.flatten().reshape(10000,28*28)\n",
    "#X_test = x_test.flatten().reshape(10000,28*28)\n",
    "\n",
    "X_train = X_train.astype(np.float32).reshape(-1,28*28)\n",
    "X_val = X_val.astype(np.float32).reshape(-1,28*28)\n",
    "X_test = x_test.astype(np.float32).reshape(-1,28*28)\n",
    "\n"
   ]
  },
  {
   "cell_type": "code",
   "execution_count": 242,
   "metadata": {},
   "outputs": [],
   "source": [
    "y_test = y_test.astype(np.int32)\n",
    "y_train = y_train.astype(np.int32)\n",
    "y_val = y_val.astype(np.int32)"
   ]
  },
  {
   "cell_type": "code",
   "execution_count": 243,
   "metadata": {},
   "outputs": [
    {
     "name": "stdout",
     "output_type": "stream",
     "text": [
      "X validation set is dimensions: (10000, 784)\n",
      "X test set is dimensions: (10000, 784)\n",
      "X train set is dimensions: (50000, 784)\n"
     ]
    }
   ],
   "source": [
    "print(\"X validation set is dimensions:\", X_val.shape)\n",
    "print(\"X test set is dimensions:\", X_test.shape)\n",
    "print(\"X train set is dimensions:\", X_train.shape)"
   ]
  },
  {
   "cell_type": "markdown",
   "metadata": {
    "colab_type": "text",
    "id": "Na4CpxLBAGGP"
   },
   "source": [
    "- - -\n",
    "## 2. CONSTRUCTION PHASE (30 pts)\n",
    "\n",
    "In this section, define at least three neural networks with different structures. Make sure that the input layer has the right number of inputs. The best structure often is found through a process of trial and error experimentation:\n",
    "- You may start with a fully connected network structure with two hidden layers.\n",
    "- You may try a few settings of the number of nodes in each layer.\n",
    "- You may try a few activation functions to see if they affect the performance.\n",
    "\n",
    "**Important Implementation Note:** For the purpose of learning Tensorflow, you must use low-level TensorFlow API to construct the network. Usage of high-level tools (ie. Keras) is not permited. "
   ]
  },
  {
   "cell_type": "code",
   "execution_count": 246,
   "metadata": {
    "colab": {},
    "colab_type": "code",
    "id": "bIJrHPVlAGGQ"
   },
   "outputs": [],
   "source": [
    "# Your code goes here\n",
    "reset_graph()\n",
    "\n",
    "# Set some configuration here\n",
    "n_inputs = 28*28  # Fashion-MNIST\n",
    "n_outputs = 10\n",
    "\n",
    "# Construct placeholder for the input layer\n",
    "X = tf.placeholder(tf.float32, shape=(None, n_inputs), name=\"X\")\n",
    "y = tf.placeholder(tf.int32, shape=(None), name=\"y\")"
   ]
  },
  {
   "cell_type": "code",
   "execution_count": 247,
   "metadata": {},
   "outputs": [],
   "source": [
    "#defining activation functions\n",
    "#its technically leaky relu\n",
    "def relu(z):\n",
    "    alpha = 0.01\n",
    "    return tf.maximum(alpha*z, z)"
   ]
  },
  {
   "cell_type": "code",
   "execution_count": 248,
   "metadata": {
    "colab": {},
    "colab_type": "code",
    "id": "iDrFp7KKils6"
   },
   "outputs": [],
   "source": [
    "#base case with leaky relu\n",
    "with tf.name_scope(\"dnn1\"):\n",
    "    n_inputs = 28 * 28  # MNIST\n",
    "    n_hidden1 = 300\n",
    "    n_hidden2 = 100\n",
    "    n_outputs = 10\n",
    "    \n",
    "    \n",
    "  #implementation of the first net here\n",
    "    hidden1 = tf.layers.dense(X, n_hidden1, activation=relu, name=\"hidden1\")\n",
    "    hidden2 = tf.layers.dense(hidden1, n_hidden2, activation=relu, name=\"hidden2\")\n",
    "    logits = tf.layers.dense(hidden2, n_outputs, name=\"outputs\")"
   ]
  },
  {
   "cell_type": "code",
   "execution_count": 249,
   "metadata": {
    "colab": {},
    "colab_type": "code",
    "id": "luyNllyVkNxr"
   },
   "outputs": [],
   "source": [
    "#an additional hidden layer\n",
    "with tf.name_scope(\"dnn2\"):\n",
    "  #implementation of the second net here\n",
    "    n_inputs = 28 * 28  # MNIST\n",
    "    n_hidden1 = 500\n",
    "    n_hidden2 = 200\n",
    "    n_hidden3 = 100\n",
    "    n_outputs = 10\n",
    "    \n",
    "  #implementation of the first net here\n",
    "    d2hidden1 = tf.layers.dense(X, n_hidden1, activation=relu, name=\"d2hidden1\")\n",
    "    d2hidden2 = tf.layers.dense(d2hidden1, n_hidden2, activation=relu, name=\"d2hidden2\")\n",
    "    d2hidden3 = tf.layers.dense(d2hidden2, n_hidden3, activation=relu, name=\"d2hidden3\")\n",
    "    blogits = tf.layers.dense(d2hidden3, n_outputs, name=\"boutputs\")"
   ]
  },
  {
   "cell_type": "code",
   "execution_count": 250,
   "metadata": {
    "colab": {},
    "colab_type": "code",
    "id": "JuvjZeJekP4-"
   },
   "outputs": [],
   "source": [
    "#large funnel with relu\n",
    "with tf.name_scope(\"dnn3\"):\n",
    "  #implementation of the third net here\n",
    "    n_inputs = 28 * 28  # MNIST\n",
    "    n_hidden1 = 1000\n",
    "    n_hidden2 = 100\n",
    "    n_outputs = 10\n",
    "    \n",
    "  #implementation of the first net here\n",
    "    d3hidden1 = tf.layers.dense(X, n_hidden1, activation=relu, name=\"d3hidden1\")\n",
    "    d3hidden2 = tf.layers.dense(d3hidden1, n_hidden2, activation=relu, name=\"d3hidden2\")\n",
    "    clogits = tf.layers.dense(d3hidden2, n_outputs, name=\"coutputs\")"
   ]
  },
  {
   "cell_type": "code",
   "execution_count": 251,
   "metadata": {
    "colab": {},
    "colab_type": "code",
    "id": "_mQCboA8ijWK"
   },
   "outputs": [],
   "source": [
    "with tf.name_scope(\"loss\"):\n",
    "#implementation of the loss function net here\n",
    "    xentropy = tf.nn.sparse_softmax_cross_entropy_with_logits(labels=y, logits=logits)\n",
    "    loss = tf.reduce_mean(xentropy, name=\"loss\")\n",
    "    \n",
    "    bxentropy = tf.nn.sparse_softmax_cross_entropy_with_logits(labels=y, logits=blogits)\n",
    "    cxentropy = tf.nn.sparse_softmax_cross_entropy_with_logits(labels=y, logits=clogits)\n",
    "    \n",
    "    bloss = tf.reduce_mean(bxentropy, name=\"bloss\")\n",
    "    closs = tf.reduce_mean(cxentropy, name=\"closs\")"
   ]
  },
  {
   "cell_type": "code",
   "execution_count": 252,
   "metadata": {
    "colab": {},
    "colab_type": "code",
    "id": "GL_cXX09ih12"
   },
   "outputs": [],
   "source": [
    "#using gradient strategy since I have used relu and selu\n",
    "with tf.name_scope(\"train\"):\n",
    "    learning_rate = 0.0011  #at learning rate of 0.01, I was getting NAN as results, need learning rate to be really low\n",
    "    blearning_rate = .0011\n",
    "    clearning_rate = .0011\n",
    "    \n",
    "    optimizer = tf.train.GradientDescentOptimizer(learning_rate)\n",
    "    training_op = optimizer.minimize(loss)\n",
    "    \n",
    "    boptimizer = tf.train.GradientDescentOptimizer(blearning_rate)\n",
    "    coptimizer = tf.train.GradientDescentOptimizer(clearning_rate)\n",
    "    \n",
    "    btraining_op = boptimizer.minimize(bloss)\n",
    "    ctraining_op = coptimizer.minimize(closs)\n",
    "    \n",
    "    extra_update_ops = tf.get_collection(tf.GraphKeys.UPDATE_OPS)"
   ]
  },
  {
   "cell_type": "code",
   "execution_count": 253,
   "metadata": {
    "colab": {},
    "colab_type": "code",
    "id": "EfKWL5IZigJg"
   },
   "outputs": [],
   "source": [
    "with tf.name_scope(\"eval\"):\n",
    "  #implementation of the evaluation procedure here\n",
    "    correct = tf.nn.in_top_k(logits, y, 1)\n",
    "    accuracy = tf.reduce_mean(tf.cast(correct, tf.float32))\n",
    "    \n",
    "    bcorrect = tf.nn.in_top_k(blogits, y, 1)\n",
    "    baccuracy = tf.reduce_mean(tf.cast(bcorrect, tf.float32))\n",
    "    \n",
    "    ccorrect = tf.nn.in_top_k(clogits, y, 1)\n",
    "    caccuracy = tf.reduce_mean(tf.cast(ccorrect, tf.float32))"
   ]
  },
  {
   "cell_type": "markdown",
   "metadata": {
    "colab_type": "text",
    "id": "SKcVSGXOAGGT"
   },
   "source": [
    "- - -\n",
    "## 3. EXECUTION PHASE (30 pts)\n",
    "\n",
    "After you construct the three models of neural networks, you can compute the performance measure as the class accuracy. You will need to define the number of epochs and size of the training batch. You also might need to reset the graph each time your try a different model. To save time and avoid retraining, you should save the trained model and load it from disk to evaluate a test set. Pick the best model and answer the following:\n",
    "- Which model yields the best performance measure for your dataset? Provide a reason why it yields the best performance.\n",
    "- Why did you pick this many hidden layers?\n",
    "- Provide some justifiable reasons for selecting the number of neurons per hidden layers. \n",
    "- Which activation functions did you use?\n",
    "\n",
    "In the next session you will get a chance to finetune it further .\n",
    "\n"
   ]
  },
  {
   "cell_type": "code",
   "execution_count": 254,
   "metadata": {
    "colab": {},
    "colab_type": "code",
    "id": "NGDKdeZzAGGV"
   },
   "outputs": [],
   "source": [
    "# Your code goes here\n",
    "init = tf.global_variables_initializer()\n",
    "saver = tf.train.Saver()\n",
    "\n",
    "#used the epochs and batch sizes from notes\n",
    "n_epochs = 40\n",
    "batch_size = 500\n",
    "\n",
    "# shuffle_batch() shuffle the examples in a batch before training\n",
    "def shuffle_batch(X, y, batch_size):\n",
    "    rnd_idx = np.random.permutation(len(X))\n",
    "    n_batches = len(X) // batch_size\n",
    "    for batch_idx in np.array_split(rnd_idx, n_batches):\n",
    "        X_batch, y_batch = X[batch_idx], y[batch_idx]\n",
    "        yield X_batch, y_batch\n"
   ]
  },
  {
   "cell_type": "code",
   "execution_count": 255,
   "metadata": {
    "colab": {},
    "colab_type": "code",
    "id": "MKMqf1gijPwW"
   },
   "outputs": [
    {
     "name": "stdout",
     "output_type": "stream",
     "text": [
      "0 model 1:  Batch accuracy: 0.666 Validation accuracy: 0.6354\n",
      "0 model 2:  Batch accuracy: 0.75 Validation accuracy: 0.6979\n",
      "0 model 3:  Batch accuracy: 0.768 Validation accuracy: 0.7326\n",
      "5 model 1:  Batch accuracy: 0.796 Validation accuracy: 0.7605\n",
      "5 model 2:  Batch accuracy: 0.798 Validation accuracy: 0.7801\n",
      "5 model 3:  Batch accuracy: 0.832 Validation accuracy: 0.8014\n",
      "10 model 1:  Batch accuracy: 0.824 Validation accuracy: 0.7888\n",
      "10 model 2:  Batch accuracy: 0.838 Validation accuracy: 0.7998\n",
      "10 model 3:  Batch accuracy: 0.832 Validation accuracy: 0.811\n",
      "15 model 1:  Batch accuracy: 0.83 Validation accuracy: 0.8048\n",
      "15 model 2:  Batch accuracy: 0.838 Validation accuracy: 0.8118\n",
      "15 model 3:  Batch accuracy: 0.826 Validation accuracy: 0.8223\n",
      "20 model 1:  Batch accuracy: 0.828 Validation accuracy: 0.8142\n",
      "20 model 2:  Batch accuracy: 0.85 Validation accuracy: 0.8224\n",
      "20 model 3:  Batch accuracy: 0.874 Validation accuracy: 0.8335\n",
      "25 model 1:  Batch accuracy: 0.824 Validation accuracy: 0.8206\n",
      "25 model 2:  Batch accuracy: 0.882 Validation accuracy: 0.8275\n",
      "25 model 3:  Batch accuracy: 0.882 Validation accuracy: 0.839\n",
      "30 model 1:  Batch accuracy: 0.848 Validation accuracy: 0.8246\n",
      "30 model 2:  Batch accuracy: 0.88 Validation accuracy: 0.8307\n",
      "30 model 3:  Batch accuracy: 0.884 Validation accuracy: 0.8391\n",
      "35 model 1:  Batch accuracy: 0.872 Validation accuracy: 0.8293\n",
      "35 model 2:  Batch accuracy: 0.9 Validation accuracy: 0.8338\n",
      "35 model 3:  Batch accuracy: 0.908 Validation accuracy: 0.8426\n"
     ]
    }
   ],
   "source": [
    "with tf.Session() as sess:\n",
    "  init.run()\n",
    "  for epoch in range(n_epochs):\n",
    "    # implementation of the training ops here\n",
    "    # implementation of the validation accuracy here\n",
    "    for X_batch, y_batch in shuffle_batch(X_train, y_train, batch_size):\n",
    "        sess.run(training_op, feed_dict={X: X_batch, y: y_batch})\n",
    "        sess.run(btraining_op, feed_dict={X: X_batch, y: y_batch})\n",
    "        sess.run(ctraining_op, feed_dict={X: X_batch, y: y_batch})\n",
    "    if epoch % 5 == 0:\n",
    "        \n",
    "        acc_batch = sess.run(accuracy,feed_dict={X: X_batch, y: y_batch})\n",
    "        acc_valid = sess.run(accuracy,feed_dict={X: X_val, y: y_val})\n",
    "        \n",
    "        \n",
    "        bacc_batch = sess.run(baccuracy,feed_dict={X: X_batch, y: y_batch})\n",
    "        bacc_valid = sess.run(baccuracy,feed_dict={X: X_val, y: y_val})\n",
    "        \n",
    "        cacc_batch = sess.run(caccuracy,feed_dict={X: X_batch, y: y_batch})\n",
    "        cacc_valid = sess.run(caccuracy,feed_dict={X: X_val, y: y_val})\n",
    "        \n",
    "        print(epoch,\"model 1: \", \"Batch accuracy:\", acc_batch, \"Validation accuracy:\", acc_valid)\n",
    "        print(epoch,\"model 2: \", \"Batch accuracy:\", bacc_batch, \"Validation accuracy:\", bacc_valid)\n",
    "        print(epoch,\"model 3: \", \"Batch accuracy:\", cacc_batch, \"Validation accuracy:\", cacc_valid)\n",
    "\n",
    "    \n",
    "  save_path = saver.save(sess, \"./my_dnn_model.ckpt\")"
   ]
  },
  {
   "cell_type": "code",
   "execution_count": 256,
   "metadata": {
    "colab": {},
    "colab_type": "code",
    "id": "lFPM62nDjncP"
   },
   "outputs": [],
   "source": [
    "with tf.Session() as sess:\n",
    "    saver.restore(sess, \"./my_dnn_model.ckpt\")\n",
    "    # implementation of the test set evaluation here\n",
    "    atest = sess.run(accuracy,feed_dict={X: X_test, y: y_test})\n",
    "    btest = sess.run(baccuracy,feed_dict={X: X_test, y: y_test})\n",
    "    ctest = sess.run(caccuracy,feed_dict={X: X_test, y: y_test})"
   ]
  },
  {
   "cell_type": "code",
   "execution_count": 257,
   "metadata": {
    "colab": {},
    "colab_type": "code",
    "id": "snnavcm0urN8"
   },
   "outputs": [
    {
     "name": "stdout",
     "output_type": "stream",
     "text": [
      "Model 1 test accuracy:  0.8198\n",
      "Model 2 test accuracy:  0.8305\n",
      "Model 3 test accuracy:  0.833\n"
     ]
    }
   ],
   "source": [
    "# print out the final accuracy here\n",
    "print(\"Model 1 test accuracy: \", atest)\n",
    "print(\"Model 2 test accuracy: \", btest)\n",
    "print(\"Model 3 test accuracy: \", ctest)"
   ]
  },
  {
   "cell_type": "markdown",
   "metadata": {},
   "source": [
    "I did end up using the same activation function for all three (with the same alpha). The main difference between the three models is in the size and number of the hidden layers.The first model had 2 hidden layers of 500 and 100, while the second model had 3 layers starting at 500 and end the 3rd hidden layer being 100. The final model took model 1 and created a funnel, with the first hidden layer being 1000 and the second hidden layer being 100 (500 to 100 vs. 1000 to 100). The increased number of layers did not lead to better performance over the other 2 models. Funneling led ot a higher test accuracy score.\n"
   ]
  },
  {
   "cell_type": "markdown",
   "metadata": {
    "colab_type": "text",
    "id": "-s2zv1SrAGGY"
   },
   "source": [
    "- - -\n",
    "## 4. FINETUNING THE NETWORK (25 pts)\n",
    "\n",
    "The best performance on the Fashion MNIST of a non-neural-net classifier is the Support Vector Classifier {\"C\":10,\"kernel\":\"poly\"} with 0.897 accuracy. In this section, you will see how close you can get to that accuracy, or (better yet) beat it! You will be able to see the performance of other ML methods below:\n",
    "http://fashion-mnist.s3-website.eu-central-1.amazonaws.com\n",
    "\n",
    "Use the best model from the previous section and see if you can improve it further. To improve the performance of your model, You must make some modifications based upon the practical guidelines discuss in class. Here are a few decisions about the recommended network configurations you have to make:\n",
    "1. Initialization: Use He Initialization for your model\n",
    "2. Activation: Add ELU as the activation function throughout your hidden layers\n",
    "3. Normalization: Incorporate the batch normalization at every layer\n",
    "4. Regularization: Configure the dropout policy at 50% rate\n",
    "5. Optimization: Change Gradient Descent into Adam Optimization\n",
    "6. Your choice: make any other changes in 1-5 you deem necessary\n",
    "\n",
    "Keep in mind that the execution phase is essentially the same, so you can just run it from the above. See how much you gain in classification accuracy. Provide some justifications for the gain in performance. \n",
    "\n",
    "\n",
    "\n",
    "\n"
   ]
  },
  {
   "cell_type": "code",
   "execution_count": 258,
   "metadata": {},
   "outputs": [],
   "source": [
    "reset_graph()\n",
    "\n",
    "# Set some configuration here\n",
    "n_inputs = 28*28  # Fashion-MNIST\n",
    "n_outputs = 10\n",
    "\n",
    "# Construct placeholder for the input layer\n",
    "X = tf.placeholder(tf.float32, shape=(None, n_inputs), name=\"X\")\n",
    "y = tf.placeholder(tf.int32, shape=(None), name=\"y\")"
   ]
  },
  {
   "cell_type": "code",
   "execution_count": 259,
   "metadata": {
    "colab": {},
    "colab_type": "code",
    "id": "hjDXZ5ws6Zpx"
   },
   "outputs": [],
   "source": [
    "with tf.name_scope(\"dnnBenchmark\"):\n",
    "  # implementation of the new benchmarking DNN here\n",
    "    n_hidden1 = 1000\n",
    "    n_hidden2 = 500\n",
    "    n_hidden3 = 100\n",
    "    n_outputs = 10\n",
    "    \n",
    "  #implementation of the first net here\n",
    "\n",
    "    he_init = tf.variance_scaling_initializer()\n",
    "    training = tf.placeholder_with_default(False, shape=(), name='training')\n",
    "    \n",
    "    ohidden1 = tf.layers.dense(X, n_hidden1, activation=relu, kernel_initializer=he_init, name=\"ohidden1\")\n",
    "    b1 = tf.layers.batch_normalization(ohidden1, training=training, momentum=0.9)\n",
    "    ob1 = tf.nn.elu(b1)\n",
    "    \n",
    "    ohidden2 = tf.layers.dense(ob1, n_hidden2, activation=relu, name=\"ohidden2\")\n",
    "    b2 = tf.layers.batch_normalization(ohidden2, training=training, momentum=0.9)\n",
    "    ob2 = tf.nn.elu(b2)\n",
    "    \n",
    "    ohidden3 = tf.layers.dense(ob2, n_hidden3, activation=relu, name=\"ohidden3\")\n",
    "    b3 = tf.layers.batch_normalization(ohidden3, training=training, momentum=0.9)\n",
    "    ob3 = tf.nn.elu(b3)\n",
    "    \n",
    "    ologits = tf.layers.dense(ob3, n_outputs, name=\"ooutputs\")\n",
    "\n",
    "    \n",
    "with tf.name_scope(\"oloss\"):\n",
    "    oxentropy = tf.nn.sparse_softmax_cross_entropy_with_logits(labels=y, logits=ologits)\n",
    "    oloss = tf.reduce_mean(oxentropy, name=\"oloss\")\n",
    "\n",
    "with tf.name_scope(\"otrain\"):\n",
    "    learning_rate = 0.0005\n",
    "    \n",
    "    ooptimizer = tf.train.GradientDescentOptimizer(learning_rate)\n",
    "    otraining_op = optimizer.minimize(oloss)\n",
    "    \n",
    "with tf.name_scope(\"oeval\"):\n",
    "  #implementation of the evaluation procedure here\n",
    "    ocorrect = tf.nn.in_top_k(ologits, y, 1)\n",
    "    oaccuracy = tf.reduce_mean(tf.cast(ocorrect, tf.float32))"
   ]
  },
  {
   "cell_type": "code",
   "execution_count": 260,
   "metadata": {},
   "outputs": [
    {
     "name": "stdout",
     "output_type": "stream",
     "text": [
      "0 optimal model:  Batch accuracy: 0.784 Validation accuracy: 0.7269\n",
      "5 optimal model:  Batch accuracy: 0.842 Validation accuracy: 0.8073\n",
      "10 optimal model:  Batch accuracy: 0.886 Validation accuracy: 0.8219\n",
      "15 optimal model:  Batch accuracy: 0.874 Validation accuracy: 0.8299\n",
      "20 optimal model:  Batch accuracy: 0.894 Validation accuracy: 0.8369\n",
      "25 optimal model:  Batch accuracy: 0.89 Validation accuracy: 0.8411\n",
      "30 optimal model:  Batch accuracy: 0.902 Validation accuracy: 0.8422\n",
      "35 optimal model:  Batch accuracy: 0.906 Validation accuracy: 0.845\n"
     ]
    }
   ],
   "source": [
    "#since I implemented the execution phase above using different lines, Il remake it here\n",
    "init = tf.global_variables_initializer()\n",
    "saver = tf.train.Saver()\n",
    "\n",
    "#used the epochs and batch sizes from notes\n",
    "n_epochs = 40\n",
    "batch_size = 500\n",
    "\n",
    "\n",
    "\n",
    "with tf.Session() as sess:\n",
    "    init.run()\n",
    "    for epoch in range(n_epochs):\n",
    "    # implementation of the training ops here\n",
    "    # implementation of the validation accuracy here\n",
    "        for X_batch, y_batch in shuffle_batch(X_train, y_train, batch_size):\n",
    "            sess.run(otraining_op, feed_dict={X: X_batch, y: y_batch})\n",
    "        \n",
    "        if epoch % 5 == 0:\n",
    "            accbatch = sess.run(oaccuracy,feed_dict={X: X_batch, y: y_batch})\n",
    "            accvalid = sess.run(oaccuracy,feed_dict={X: X_val, y: y_val})\n",
    "      \n",
    "            print(epoch,\"optimal model: \", \"Batch accuracy:\", accbatch, \"Validation accuracy:\", accvalid)\n",
    "\n",
    "    save_path = saver.save(sess, \"./optimized model.ckpt\")"
   ]
  },
  {
   "cell_type": "code",
   "execution_count": 261,
   "metadata": {},
   "outputs": [
    {
     "name": "stdout",
     "output_type": "stream",
     "text": [
      "optimized model accuracy:  0.843\n"
     ]
    }
   ],
   "source": [
    "with tf.Session() as sess:\n",
    "    saver.restore(sess, \"./optimized model.ckpt\")\n",
    "    atest = sess.run(oaccuracy,feed_dict={X: X_test, y: y_test})\n",
    "    print(\"optimized model accuracy: \", atest)"
   ]
  },
  {
   "cell_type": "markdown",
   "metadata": {
    "colab_type": "text",
    "id": "04jsbI9TAGGY"
   },
   "source": [
    "- - -\n",
    "## 5. OUTLOOK (5 pts)\n",
    "\n",
    "Plan for the outlook of your system: This may lead to the direction of your future project:\n",
    "- Did your neural network outperform other \"traditional ML technique? Why/why not?\n",
    "- Does your model work well? If not, which model should be further investigated?\n",
    "- Do you satisfy with your system? What do you think needed to improve?\n",
    "\n"
   ]
  },
  {
   "cell_type": "markdown",
   "metadata": {},
   "source": [
    "I am not fully satisfied with my system. My primary issue is 1 things. First the learning rate I had to use was much smaller than the learning rate used in the notes. Using a learning rate any significant size larger for me ended with NAN results, which worries me. I thus could not mess with learning rate to improve my model. The main changes I have done were to implement batche normalisations at every stage, and to implement he at the beginning. I was unable to implement drop out stages which I believe may have been able to perform better than taditional ML techniques. Overall though, I believe my model functions decently.\n",
    "\n"
   ]
  },
  {
   "cell_type": "markdown",
   "metadata": {
    "colab_type": "text",
    "id": "zS9PKaL4AGGZ"
   },
   "source": [
    "- - - \n",
    "### NEED HELP?"
   ]
  },
  {
   "cell_type": "markdown",
   "metadata": {
    "colab_type": "text",
    "id": "T0vuIEBDAGGa"
   },
   "source": [
    "In case you get stuck in any step in the process, you may find some useful information from:\n",
    "\n",
    " * Consult my lectures and/or the textbook\n",
    " * Talk to the TA, they are available and there to help you during OH\n",
    " * Come talk to me or email me <nn4pj@virginia.edu> with subject starting \"CS4501 Assignment 4:...\".\n",
    " * More on the Fashion-MNIST to be found here: https://hanxiao.github.io/2018/09/28/Fashion-MNIST-Year-In-Review/\n",
    "\n",
    "Best of luck and have fun!"
   ]
  },
  {
   "cell_type": "code",
   "execution_count": 0,
   "metadata": {
    "colab": {},
    "colab_type": "code",
    "id": "cH_mulWEAGGb"
   },
   "outputs": [],
   "source": []
  }
 ],
 "metadata": {
  "colab": {
   "collapsed_sections": [],
   "name": "CS 4501 Assignment 4.ipynb",
   "provenance": [
    {
     "file_id": "1hQZ4t2l5aFDO0sEs213HsV547c_tH6TL",
     "timestamp": 1554445243544
    }
   ],
   "version": "0.3.2"
  },
  "kernelspec": {
   "display_name": "Python 3",
   "language": "python",
   "name": "python3"
  },
  "language_info": {
   "codemirror_mode": {
    "name": "ipython",
    "version": 3
   },
   "file_extension": ".py",
   "mimetype": "text/x-python",
   "name": "python",
   "nbconvert_exporter": "python",
   "pygments_lexer": "ipython3",
   "version": "3.6.0"
  }
 },
 "nbformat": 4,
 "nbformat_minor": 1
}
