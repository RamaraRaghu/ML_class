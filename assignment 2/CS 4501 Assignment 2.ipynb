{
 "cells": [
  {
   "cell_type": "markdown",
   "metadata": {
    "colab_type": "text",
    "id": "MIvgjSZuDOdE"
   },
   "source": [
    "# Assignment 2: Spam Classification with SVM\n",
    "Name: Rakshith Raghu(rr5de)"
   ]
  },
  {
   "cell_type": "markdown",
   "metadata": {
    "colab_type": "text",
    "id": "BFMzEfKaDOdI"
   },
   "source": [
    "### CS 4501 Machine Learning - Department of Computer Science - University of Virginia\n",
    "\n",
    "![Spam email](https://www.saleshandy.com/blog/wp-content/uploads/2017/01/wsi-imageoptim-11-Reasons-Why-Your-Email-Ends-Up-In-Spam.png)\n",
    "\n",
    "*Many email services today provide spam filters that are able to classify emails into spam and non-spam email with high accuracy. In this part of the assignment, you will use SVMs to build your own spam filter. For references, you may refer to my [lecture 6](https://drive.google.com/open?id=1CeBhepjDKBaFBq2BZq-zNQs-MC8ll7aL4qAF8TJ24FM) and [lecture 6b](https://drive.google.com/open?id=13BidUAs_c2QdZkf92axt2S748sbnbI9Hgxg-fzb-OuU) or Chapter 5 of the textbook if you need additional sample codes to help with your assignment. For deliverables, you must write code in Python and submit **this** Jupyter Notebook file (.ipynb) to earn a total of 100 pts. You will gain points depending on how you perform in the following sections.*\n"
   ]
  },
  {
   "cell_type": "markdown",
   "metadata": {
    "colab_type": "text",
    "id": "BOOW2renDOdK"
   },
   "source": [
    "---\n",
    "## 1. PRE-PROCESSING THE DATA (20 pts)\n",
    "\n",
    "**Data Acquiring:** Download the spam dataset from UC Irvine. You can find the dataset attached with the assignment in Collab. Note that the data is in raw file, so you have to convert them into a readable format (ie. CSV). Please be sure to read its documentation to learn more about the dataset. \n",
    "\n",
    "**Data Splitting:** Put data into the format needed for classification task, then split it into 80% training, 20% testing (each should have approximately the same proportion between positive and negative examples).\n",
    "\n",
    "**Data Discovery:** Plot out all correlations among the features. You may notice some features are more correlated with your predicted value than other. This information will help you confirm that weights of your SVM model later on.\n",
    "\n",
    "**Data Cleaning:** If your dataset has some missing values, make sure you are able to fill those values with the Imputer class. \n",
    "\n",
    "**Feature Scaling** You can use the standard library StandardScaler to normalize the value of each features."
   ]
  },
  {
   "cell_type": "code",
   "execution_count": 1,
   "metadata": {},
   "outputs": [
    {
     "data": {
      "text/html": [
       "<div>\n",
       "<style scoped>\n",
       "    .dataframe tbody tr th:only-of-type {\n",
       "        vertical-align: middle;\n",
       "    }\n",
       "\n",
       "    .dataframe tbody tr th {\n",
       "        vertical-align: top;\n",
       "    }\n",
       "\n",
       "    .dataframe thead th {\n",
       "        text-align: right;\n",
       "    }\n",
       "</style>\n",
       "<table border=\"1\" class=\"dataframe\">\n",
       "  <thead>\n",
       "    <tr style=\"text-align: right;\">\n",
       "      <th></th>\n",
       "      <th>word_freq_make</th>\n",
       "      <th>word_freq_address</th>\n",
       "      <th>word_freq_all</th>\n",
       "      <th>word_freq_3d</th>\n",
       "      <th>word_freq_our</th>\n",
       "      <th>word_freq_over</th>\n",
       "      <th>word_freq_remove</th>\n",
       "      <th>word_freq_internet</th>\n",
       "      <th>word_freq_order</th>\n",
       "      <th>word_freq_mail</th>\n",
       "      <th>...</th>\n",
       "      <th>char_freq_;</th>\n",
       "      <th>char_freq_(</th>\n",
       "      <th>char_freq_[</th>\n",
       "      <th>char_freq_!</th>\n",
       "      <th>char_freq_$</th>\n",
       "      <th>char_freq_#</th>\n",
       "      <th>capital_run_length_average</th>\n",
       "      <th>capital_run_length_longest</th>\n",
       "      <th>capital_run_length_total</th>\n",
       "      <th>IsSpam</th>\n",
       "    </tr>\n",
       "  </thead>\n",
       "  <tbody>\n",
       "    <tr>\n",
       "      <th>0</th>\n",
       "      <td>0.00</td>\n",
       "      <td>0.64</td>\n",
       "      <td>0.64</td>\n",
       "      <td>0.0</td>\n",
       "      <td>0.32</td>\n",
       "      <td>0.00</td>\n",
       "      <td>0.00</td>\n",
       "      <td>0.00</td>\n",
       "      <td>0.00</td>\n",
       "      <td>0.00</td>\n",
       "      <td>...</td>\n",
       "      <td>0.00</td>\n",
       "      <td>0.000</td>\n",
       "      <td>0.0</td>\n",
       "      <td>0.778</td>\n",
       "      <td>0.000</td>\n",
       "      <td>0.000</td>\n",
       "      <td>3.756</td>\n",
       "      <td>61</td>\n",
       "      <td>278</td>\n",
       "      <td>1</td>\n",
       "    </tr>\n",
       "    <tr>\n",
       "      <th>1</th>\n",
       "      <td>0.21</td>\n",
       "      <td>0.28</td>\n",
       "      <td>0.50</td>\n",
       "      <td>0.0</td>\n",
       "      <td>0.14</td>\n",
       "      <td>0.28</td>\n",
       "      <td>0.21</td>\n",
       "      <td>0.07</td>\n",
       "      <td>0.00</td>\n",
       "      <td>0.94</td>\n",
       "      <td>...</td>\n",
       "      <td>0.00</td>\n",
       "      <td>0.132</td>\n",
       "      <td>0.0</td>\n",
       "      <td>0.372</td>\n",
       "      <td>0.180</td>\n",
       "      <td>0.048</td>\n",
       "      <td>5.114</td>\n",
       "      <td>101</td>\n",
       "      <td>1028</td>\n",
       "      <td>1</td>\n",
       "    </tr>\n",
       "    <tr>\n",
       "      <th>2</th>\n",
       "      <td>0.06</td>\n",
       "      <td>0.00</td>\n",
       "      <td>0.71</td>\n",
       "      <td>0.0</td>\n",
       "      <td>1.23</td>\n",
       "      <td>0.19</td>\n",
       "      <td>0.19</td>\n",
       "      <td>0.12</td>\n",
       "      <td>0.64</td>\n",
       "      <td>0.25</td>\n",
       "      <td>...</td>\n",
       "      <td>0.01</td>\n",
       "      <td>0.143</td>\n",
       "      <td>0.0</td>\n",
       "      <td>0.276</td>\n",
       "      <td>0.184</td>\n",
       "      <td>0.010</td>\n",
       "      <td>9.821</td>\n",
       "      <td>485</td>\n",
       "      <td>2259</td>\n",
       "      <td>1</td>\n",
       "    </tr>\n",
       "    <tr>\n",
       "      <th>3</th>\n",
       "      <td>0.00</td>\n",
       "      <td>0.00</td>\n",
       "      <td>0.00</td>\n",
       "      <td>0.0</td>\n",
       "      <td>0.63</td>\n",
       "      <td>0.00</td>\n",
       "      <td>0.31</td>\n",
       "      <td>0.63</td>\n",
       "      <td>0.31</td>\n",
       "      <td>0.63</td>\n",
       "      <td>...</td>\n",
       "      <td>0.00</td>\n",
       "      <td>0.137</td>\n",
       "      <td>0.0</td>\n",
       "      <td>0.137</td>\n",
       "      <td>0.000</td>\n",
       "      <td>0.000</td>\n",
       "      <td>3.537</td>\n",
       "      <td>40</td>\n",
       "      <td>191</td>\n",
       "      <td>1</td>\n",
       "    </tr>\n",
       "    <tr>\n",
       "      <th>4</th>\n",
       "      <td>0.00</td>\n",
       "      <td>0.00</td>\n",
       "      <td>0.00</td>\n",
       "      <td>0.0</td>\n",
       "      <td>0.63</td>\n",
       "      <td>0.00</td>\n",
       "      <td>0.31</td>\n",
       "      <td>0.63</td>\n",
       "      <td>0.31</td>\n",
       "      <td>0.63</td>\n",
       "      <td>...</td>\n",
       "      <td>0.00</td>\n",
       "      <td>0.135</td>\n",
       "      <td>0.0</td>\n",
       "      <td>0.135</td>\n",
       "      <td>0.000</td>\n",
       "      <td>0.000</td>\n",
       "      <td>3.537</td>\n",
       "      <td>40</td>\n",
       "      <td>191</td>\n",
       "      <td>1</td>\n",
       "    </tr>\n",
       "  </tbody>\n",
       "</table>\n",
       "<p>5 rows × 58 columns</p>\n",
       "</div>"
      ],
      "text/plain": [
       "   word_freq_make  \\nword_freq_address  \\nword_freq_all  \\nword_freq_3d  \\\n",
       "0            0.00                 0.64             0.64             0.0   \n",
       "1            0.21                 0.28             0.50             0.0   \n",
       "2            0.06                 0.00             0.71             0.0   \n",
       "3            0.00                 0.00             0.00             0.0   \n",
       "4            0.00                 0.00             0.00             0.0   \n",
       "\n",
       "   \\nword_freq_our  \\nword_freq_over  \\nword_freq_remove  \\\n",
       "0             0.32              0.00                0.00   \n",
       "1             0.14              0.28                0.21   \n",
       "2             1.23              0.19                0.19   \n",
       "3             0.63              0.00                0.31   \n",
       "4             0.63              0.00                0.31   \n",
       "\n",
       "   \\nword_freq_internet  \\nword_freq_order  \\nword_freq_mail  ...  \\\n",
       "0                  0.00               0.00              0.00  ...   \n",
       "1                  0.07               0.00              0.94  ...   \n",
       "2                  0.12               0.64              0.25  ...   \n",
       "3                  0.63               0.31              0.63  ...   \n",
       "4                  0.63               0.31              0.63  ...   \n",
       "\n",
       "   \\nchar_freq_;  \\nchar_freq_(  \\nchar_freq_[  \\nchar_freq_!  \\nchar_freq_$  \\\n",
       "0           0.00          0.000            0.0          0.778          0.000   \n",
       "1           0.00          0.132            0.0          0.372          0.180   \n",
       "2           0.01          0.143            0.0          0.276          0.184   \n",
       "3           0.00          0.137            0.0          0.137          0.000   \n",
       "4           0.00          0.135            0.0          0.135          0.000   \n",
       "\n",
       "   \\nchar_freq_#  \\ncapital_run_length_average  \\ncapital_run_length_longest  \\\n",
       "0          0.000                         3.756                            61   \n",
       "1          0.048                         5.114                           101   \n",
       "2          0.010                         9.821                           485   \n",
       "3          0.000                         3.537                            40   \n",
       "4          0.000                         3.537                            40   \n",
       "\n",
       "   \\ncapital_run_length_total\\n  IsSpam  \n",
       "0                           278       1  \n",
       "1                          1028       1  \n",
       "2                          2259       1  \n",
       "3                           191       1  \n",
       "4                           191       1  \n",
       "\n",
       "[5 rows x 58 columns]"
      ]
     },
     "execution_count": 1,
     "metadata": {},
     "output_type": "execute_result"
    }
   ],
   "source": [
    "#This cell will compile the data into a dataframe\n",
    "import pandas as pd\n",
    "import numpy as np\n",
    "\n",
    "#getting columns\n",
    "text_file = open(\"spambase/spambase.columns\", \"r\")\n",
    "names = text_file.read().split(',')\n",
    "names.append(\"IsSpam\")\n",
    "\n",
    "text_file.close()\n",
    "\n",
    "spam = pd.read_csv(filepath_or_buffer = \"spambase/spambase.data\", names = names)\n",
    "spam.head()"
   ]
  },
  {
   "cell_type": "code",
   "execution_count": 2,
   "metadata": {},
   "outputs": [
    {
     "data": {
      "text/html": [
       "<div>\n",
       "<style scoped>\n",
       "    .dataframe tbody tr th:only-of-type {\n",
       "        vertical-align: middle;\n",
       "    }\n",
       "\n",
       "    .dataframe tbody tr th {\n",
       "        vertical-align: top;\n",
       "    }\n",
       "\n",
       "    .dataframe thead th {\n",
       "        text-align: right;\n",
       "    }\n",
       "</style>\n",
       "<table border=\"1\" class=\"dataframe\">\n",
       "  <thead>\n",
       "    <tr style=\"text-align: right;\">\n",
       "      <th></th>\n",
       "      <th>word_freq_make</th>\n",
       "      <th>word_freq_address</th>\n",
       "      <th>word_freq_all</th>\n",
       "      <th>word_freq_3d</th>\n",
       "      <th>word_freq_our</th>\n",
       "      <th>word_freq_over</th>\n",
       "      <th>word_freq_remove</th>\n",
       "      <th>word_freq_internet</th>\n",
       "      <th>word_freq_order</th>\n",
       "      <th>word_freq_mail</th>\n",
       "      <th>...</th>\n",
       "      <th>char_freq_;</th>\n",
       "      <th>char_freq_(</th>\n",
       "      <th>char_freq_[</th>\n",
       "      <th>char_freq_!</th>\n",
       "      <th>char_freq_$</th>\n",
       "      <th>char_freq_#</th>\n",
       "      <th>capital_run_length_average</th>\n",
       "      <th>capital_run_length_longest</th>\n",
       "      <th>capital_run_length_total</th>\n",
       "      <th>IsSpam</th>\n",
       "    </tr>\n",
       "  </thead>\n",
       "  <tbody>\n",
       "  </tbody>\n",
       "</table>\n",
       "<p>0 rows × 58 columns</p>\n",
       "</div>"
      ],
      "text/plain": [
       "Empty DataFrame\n",
       "Columns: [word_freq_make, \n",
       "word_freq_address, \n",
       "word_freq_all, \n",
       "word_freq_3d, \n",
       "word_freq_our, \n",
       "word_freq_over, \n",
       "word_freq_remove, \n",
       "word_freq_internet, \n",
       "word_freq_order, \n",
       "word_freq_mail, \n",
       "word_freq_receive, \n",
       "word_freq_will, \n",
       "word_freq_people, \n",
       "word_freq_report, \n",
       "word_freq_addresses, \n",
       "word_freq_free, \n",
       "word_freq_business, \n",
       "word_freq_email, \n",
       "word_freq_you, \n",
       "word_freq_credit, \n",
       "word_freq_your, \n",
       "word_freq_font, \n",
       "word_freq_000, \n",
       "word_freq_money, \n",
       "word_freq_hp, \n",
       "word_freq_hpl, \n",
       "word_freq_george, \n",
       "word_freq_650, \n",
       "word_freq_lab, \n",
       "word_freq_labs, \n",
       "word_freq_telnet, \n",
       "word_freq_857, \n",
       "word_freq_data, \n",
       "word_freq_415, \n",
       "word_freq_85, \n",
       "word_freq_technology, \n",
       "word_freq_1999, \n",
       "word_freq_parts, \n",
       "word_freq_pm, \n",
       "word_freq_direct, \n",
       "word_freq_cs, \n",
       "word_freq_meeting, \n",
       "word_freq_original, \n",
       "word_freq_project, \n",
       "word_freq_re, \n",
       "word_freq_edu, \n",
       "word_freq_table, \n",
       "word_freq_conference, \n",
       "char_freq_;, \n",
       "char_freq_(, \n",
       "char_freq_[, \n",
       "char_freq_!, \n",
       "char_freq_$, \n",
       "char_freq_#, \n",
       "capital_run_length_average, \n",
       "capital_run_length_longest, \n",
       "capital_run_length_total\n",
       ", IsSpam]\n",
       "Index: []\n",
       "\n",
       "[0 rows x 58 columns]"
      ]
     },
     "execution_count": 2,
     "metadata": {},
     "output_type": "execute_result"
    }
   ],
   "source": [
    "#checking for null data points\n",
    "sample_incomplete_rows = spam[spam.isnull().any(axis=1)].head()\n",
    "sample_incomplete_rows\n"
   ]
  },
  {
   "cell_type": "markdown",
   "metadata": {},
   "source": [
    "No null data points, so nothing new has to be inserted all data is continous, so no dummy variables have to be added"
   ]
  },
  {
   "cell_type": "code",
   "execution_count": 3,
   "metadata": {},
   "outputs": [
    {
     "data": {
      "text/plain": [
       "IsSpam                          1.000000\n",
       "\\nword_freq_your                0.383234\n",
       "\\nword_freq_000                 0.334787\n",
       "\\nword_freq_remove              0.332117\n",
       "\\nchar_freq_$                   0.323629\n",
       "\\nword_freq_you                 0.273651\n",
       "\\nword_freq_free                0.263215\n",
       "\\nword_freq_business            0.263204\n",
       "\\ncapital_run_length_total\\n    0.249164\n",
       "\\nword_freq_our                 0.241920\n",
       "\\nchar_freq_!                   0.241888\n",
       "\\nword_freq_receive             0.234529\n",
       "\\nword_freq_over                0.232604\n",
       "\\nword_freq_order               0.231551\n",
       "\\nword_freq_money               0.216111\n",
       "\\ncapital_run_length_longest    0.216097\n",
       "\\nword_freq_internet            0.206808\n",
       "\\nword_freq_email               0.204208\n",
       "\\nword_freq_all                 0.196988\n",
       "\\nword_freq_addresses           0.195902\n",
       "\\nword_freq_credit              0.189761\n",
       "\\nword_freq_mail                0.138962\n",
       "\\nword_freq_people              0.132927\n",
       "word_freq_make                  0.126208\n",
       "\\ncapital_run_length_average    0.109999\n",
       "\\nword_freq_font                0.091860\n",
       "\\nchar_freq_#                   0.065067\n",
       "\\nword_freq_report              0.060027\n",
       "\\nword_freq_3d                  0.057371\n",
       "\\nword_freq_will                0.007741\n",
       "\\nword_freq_address            -0.030224\n",
       "\\nword_freq_parts              -0.031035\n",
       "\\nword_freq_table              -0.044679\n",
       "\\nchar_freq_;                  -0.059630\n",
       "\\nchar_freq_[                  -0.064709\n",
       "\\nword_freq_direct             -0.064801\n",
       "\\nword_freq_conference         -0.084020\n",
       "\\nchar_freq_(                  -0.089672\n",
       "\\nword_freq_project            -0.094594\n",
       "\\nword_freq_cs                 -0.097375\n",
       "\\nword_freq_415                -0.112754\n",
       "\\nword_freq_857                -0.114214\n",
       "\\nword_freq_data               -0.119931\n",
       "\\nword_freq_pm                 -0.122831\n",
       "\\nword_freq_telnet             -0.126912\n",
       "\\nword_freq_lab                -0.133523\n",
       "\\nword_freq_original           -0.135664\n",
       "\\nword_freq_technology         -0.136134\n",
       "\\nword_freq_meeting            -0.136615\n",
       "\\nword_freq_re                 -0.140408\n",
       "\\nword_freq_edu                -0.146138\n",
       "\\nword_freq_85                 -0.149225\n",
       "\\nword_freq_650                -0.158800\n",
       "\\nword_freq_labs               -0.171095\n",
       "\\nword_freq_1999               -0.178045\n",
       "\\nword_freq_george             -0.183404\n",
       "\\nword_freq_hpl                -0.232968\n",
       "\\nword_freq_hp                 -0.256723\n",
       "Name: IsSpam, dtype: float64"
      ]
     },
     "execution_count": 3,
     "metadata": {},
     "output_type": "execute_result"
    }
   ],
   "source": [
    "#checking correlations with IsSpam\n",
    "correlation_matrix = spam.corr()\n",
    "correlation_matrix[\"IsSpam\"].sort_values(ascending = False)"
   ]
  },
  {
   "cell_type": "markdown",
   "metadata": {},
   "source": [
    "features nword_freq_your, nword_freq_000, nword_freq_remove, nchar_freq_$ appear highest correlated with IsSpam with the absolute value of their correlations being above .3"
   ]
  },
  {
   "cell_type": "code",
   "execution_count": 4,
   "metadata": {
    "colab": {},
    "colab_type": "code",
    "id": "BEWXgTDQDOdN"
   },
   "outputs": [],
   "source": [
    "# You might want to use the following packages\n",
    "from sklearn.model_selection import train_test_split\n",
    "from pandas.plotting import scatter_matrix # optional\n",
    "from sklearn.preprocessing import Imputer\n",
    "from sklearn.preprocessing import LabelEncoder\n",
    "from sklearn.preprocessing import OneHotEncoder\n",
    "from sklearn.pipeline import Pipeline\n",
    "from sklearn.preprocessing import StandardScaler\n",
    "\n",
    "total_train, total_test = train_test_split(spam, test_size = 0.2, random_state = 40)\n",
    "\n",
    "\n",
    "\n",
    "# Your code goes here for this section.\n",
    "X_train = total_train.drop(\"IsSpam\", axis=1);\n",
    "y_train = pd.DataFrame(total_train[\"IsSpam\"].copy());\n",
    "X_test = total_test.drop(\"IsSpam\", axis=1);\n",
    "y_test = pd.DataFrame(total_test[\"IsSpam\"].copy());"
   ]
  },
  {
   "cell_type": "code",
   "execution_count": 9,
   "metadata": {},
   "outputs": [
    {
     "data": {
      "text/html": [
       "<div>\n",
       "<style scoped>\n",
       "    .dataframe tbody tr th:only-of-type {\n",
       "        vertical-align: middle;\n",
       "    }\n",
       "\n",
       "    .dataframe tbody tr th {\n",
       "        vertical-align: top;\n",
       "    }\n",
       "\n",
       "    .dataframe thead th {\n",
       "        text-align: right;\n",
       "    }\n",
       "</style>\n",
       "<table border=\"1\" class=\"dataframe\">\n",
       "  <thead>\n",
       "    <tr style=\"text-align: right;\">\n",
       "      <th></th>\n",
       "      <th>word_freq_make</th>\n",
       "      <th>word_freq_address</th>\n",
       "      <th>word_freq_all</th>\n",
       "      <th>word_freq_3d</th>\n",
       "      <th>word_freq_our</th>\n",
       "      <th>word_freq_over</th>\n",
       "      <th>word_freq_remove</th>\n",
       "      <th>word_freq_internet</th>\n",
       "      <th>word_freq_order</th>\n",
       "      <th>word_freq_mail</th>\n",
       "      <th>...</th>\n",
       "      <th>word_freq_conference</th>\n",
       "      <th>char_freq_;</th>\n",
       "      <th>char_freq_(</th>\n",
       "      <th>char_freq_[</th>\n",
       "      <th>char_freq_!</th>\n",
       "      <th>char_freq_$</th>\n",
       "      <th>char_freq_#</th>\n",
       "      <th>capital_run_length_average</th>\n",
       "      <th>capital_run_length_longest</th>\n",
       "      <th>capital_run_length_total</th>\n",
       "    </tr>\n",
       "  </thead>\n",
       "  <tbody>\n",
       "    <tr>\n",
       "      <th>0</th>\n",
       "      <td>-0.341621</td>\n",
       "      <td>-0.167265</td>\n",
       "      <td>-0.562336</td>\n",
       "      <td>-0.049319</td>\n",
       "      <td>-0.461045</td>\n",
       "      <td>-0.346217</td>\n",
       "      <td>-0.292291</td>\n",
       "      <td>-0.251117</td>\n",
       "      <td>-0.327786</td>\n",
       "      <td>-0.362981</td>\n",
       "      <td>...</td>\n",
       "      <td>-0.117702</td>\n",
       "      <td>-0.157987</td>\n",
       "      <td>-0.492035</td>\n",
       "      <td>-0.170734</td>\n",
       "      <td>-0.316622</td>\n",
       "      <td>-0.299829</td>\n",
       "      <td>-0.100029</td>\n",
       "      <td>-0.128729</td>\n",
       "      <td>-0.247909</td>\n",
       "      <td>-0.485738</td>\n",
       "    </tr>\n",
       "    <tr>\n",
       "      <th>1</th>\n",
       "      <td>-0.341621</td>\n",
       "      <td>-0.167265</td>\n",
       "      <td>-0.562336</td>\n",
       "      <td>-0.049319</td>\n",
       "      <td>0.467115</td>\n",
       "      <td>1.849003</td>\n",
       "      <td>-0.292291</td>\n",
       "      <td>-0.251117</td>\n",
       "      <td>-0.327786</td>\n",
       "      <td>-0.362981</td>\n",
       "      <td>...</td>\n",
       "      <td>-0.117702</td>\n",
       "      <td>0.746469</td>\n",
       "      <td>0.300194</td>\n",
       "      <td>-0.170734</td>\n",
       "      <td>-0.316622</td>\n",
       "      <td>-0.299829</td>\n",
       "      <td>-0.100029</td>\n",
       "      <td>-0.100070</td>\n",
       "      <td>-0.228916</td>\n",
       "      <td>-0.395553</td>\n",
       "    </tr>\n",
       "    <tr>\n",
       "      <th>2</th>\n",
       "      <td>-0.341621</td>\n",
       "      <td>-0.167265</td>\n",
       "      <td>-0.562336</td>\n",
       "      <td>-0.049319</td>\n",
       "      <td>-0.461045</td>\n",
       "      <td>-0.346217</td>\n",
       "      <td>-0.292291</td>\n",
       "      <td>-0.251117</td>\n",
       "      <td>-0.327786</td>\n",
       "      <td>-0.362981</td>\n",
       "      <td>...</td>\n",
       "      <td>-0.117702</td>\n",
       "      <td>-0.157987</td>\n",
       "      <td>-0.492035</td>\n",
       "      <td>2.189761</td>\n",
       "      <td>0.205392</td>\n",
       "      <td>-0.299829</td>\n",
       "      <td>-0.100029</td>\n",
       "      <td>-0.115804</td>\n",
       "      <td>-0.195679</td>\n",
       "      <td>-0.411162</td>\n",
       "    </tr>\n",
       "    <tr>\n",
       "      <th>3</th>\n",
       "      <td>-0.341621</td>\n",
       "      <td>-0.167265</td>\n",
       "      <td>0.739773</td>\n",
       "      <td>-0.049319</td>\n",
       "      <td>-0.461045</td>\n",
       "      <td>1.919817</td>\n",
       "      <td>-0.292291</td>\n",
       "      <td>-0.251117</td>\n",
       "      <td>-0.327786</td>\n",
       "      <td>-0.362981</td>\n",
       "      <td>...</td>\n",
       "      <td>-0.117702</td>\n",
       "      <td>-0.157987</td>\n",
       "      <td>0.303731</td>\n",
       "      <td>-0.170734</td>\n",
       "      <td>-0.054450</td>\n",
       "      <td>-0.299829</td>\n",
       "      <td>-0.100029</td>\n",
       "      <td>-0.102879</td>\n",
       "      <td>-0.195679</td>\n",
       "      <td>-0.353929</td>\n",
       "    </tr>\n",
       "    <tr>\n",
       "      <th>4</th>\n",
       "      <td>-0.341621</td>\n",
       "      <td>-0.167265</td>\n",
       "      <td>-0.562336</td>\n",
       "      <td>-0.049319</td>\n",
       "      <td>-0.461045</td>\n",
       "      <td>-0.346217</td>\n",
       "      <td>-0.292291</td>\n",
       "      <td>-0.251117</td>\n",
       "      <td>-0.327786</td>\n",
       "      <td>-0.362981</td>\n",
       "      <td>...</td>\n",
       "      <td>-0.117702</td>\n",
       "      <td>-0.157987</td>\n",
       "      <td>-0.492035</td>\n",
       "      <td>-0.170734</td>\n",
       "      <td>-0.316622</td>\n",
       "      <td>-0.299829</td>\n",
       "      <td>-0.100029</td>\n",
       "      <td>-0.128729</td>\n",
       "      <td>-0.247909</td>\n",
       "      <td>-0.482269</td>\n",
       "    </tr>\n",
       "  </tbody>\n",
       "</table>\n",
       "<p>5 rows × 57 columns</p>\n",
       "</div>"
      ],
      "text/plain": [
       "   word_freq_make  \\nword_freq_address  \\nword_freq_all  \\nword_freq_3d  \\\n",
       "0       -0.341621            -0.167265        -0.562336       -0.049319   \n",
       "1       -0.341621            -0.167265        -0.562336       -0.049319   \n",
       "2       -0.341621            -0.167265        -0.562336       -0.049319   \n",
       "3       -0.341621            -0.167265         0.739773       -0.049319   \n",
       "4       -0.341621            -0.167265        -0.562336       -0.049319   \n",
       "\n",
       "   \\nword_freq_our  \\nword_freq_over  \\nword_freq_remove  \\\n",
       "0        -0.461045         -0.346217           -0.292291   \n",
       "1         0.467115          1.849003           -0.292291   \n",
       "2        -0.461045         -0.346217           -0.292291   \n",
       "3        -0.461045          1.919817           -0.292291   \n",
       "4        -0.461045         -0.346217           -0.292291   \n",
       "\n",
       "   \\nword_freq_internet  \\nword_freq_order  \\nword_freq_mail  ...  \\\n",
       "0             -0.251117          -0.327786         -0.362981  ...   \n",
       "1             -0.251117          -0.327786         -0.362981  ...   \n",
       "2             -0.251117          -0.327786         -0.362981  ...   \n",
       "3             -0.251117          -0.327786         -0.362981  ...   \n",
       "4             -0.251117          -0.327786         -0.362981  ...   \n",
       "\n",
       "   \\nword_freq_conference  \\nchar_freq_;  \\nchar_freq_(  \\nchar_freq_[  \\\n",
       "0               -0.117702      -0.157987      -0.492035      -0.170734   \n",
       "1               -0.117702       0.746469       0.300194      -0.170734   \n",
       "2               -0.117702      -0.157987      -0.492035       2.189761   \n",
       "3               -0.117702      -0.157987       0.303731      -0.170734   \n",
       "4               -0.117702      -0.157987      -0.492035      -0.170734   \n",
       "\n",
       "   \\nchar_freq_!  \\nchar_freq_$  \\nchar_freq_#  \\ncapital_run_length_average  \\\n",
       "0      -0.316622      -0.299829      -0.100029                     -0.128729   \n",
       "1      -0.316622      -0.299829      -0.100029                     -0.100070   \n",
       "2       0.205392      -0.299829      -0.100029                     -0.115804   \n",
       "3      -0.054450      -0.299829      -0.100029                     -0.102879   \n",
       "4      -0.316622      -0.299829      -0.100029                     -0.128729   \n",
       "\n",
       "   \\ncapital_run_length_longest  \\ncapital_run_length_total\\n  \n",
       "0                     -0.247909                     -0.485738  \n",
       "1                     -0.228916                     -0.395553  \n",
       "2                     -0.195679                     -0.411162  \n",
       "3                     -0.195679                     -0.353929  \n",
       "4                     -0.247909                     -0.482269  \n",
       "\n",
       "[5 rows x 57 columns]"
      ]
     },
     "execution_count": 9,
     "metadata": {},
     "output_type": "execute_result"
    }
   ],
   "source": [
    "#using standardscalar to normalize the features\n",
    "scaler = StandardScaler()\n",
    "\n",
    "train_names = names[:-1]\n",
    "\n",
    "X_train = pd.DataFrame(scaler.fit_transform(X_train), columns= train_names)\n",
    "X_test = pd.DataFrame(scaler.transform(X_test), columns = train_names)\n",
    "#warning will occur saying the data is being transformed into floats. This is fine\n",
    "X_train.head()"
   ]
  },
  {
   "cell_type": "code",
   "execution_count": 6,
   "metadata": {},
   "outputs": [
    {
     "name": "stdout",
     "output_type": "stream",
     "text": [
      "[0 0 0 ... 0 0 0]\n"
     ]
    }
   ],
   "source": [
    "print(np.ravel(y_train))"
   ]
  },
  {
   "cell_type": "markdown",
   "metadata": {
    "colab_type": "text",
    "id": "b_aV2q47DOdT"
   },
   "source": [
    "- - -\n",
    "## 2. TRAINING LINEAR SVM FOR SPAM CLASSIFICATION (15 pts)\n",
    "\n",
    "Train your linear SVM classifier on the training data, and then test the classifier on the test data. You may use the default **loss function** (=\"hinge\") and **default** value of the C hyperparameter (=1.0):\n",
    "\n",
    "* Report (1) accuracy, (2) precision, (3) recall, and (4) F-score on the test data\n",
    "* Create an ROC curve, using 100 evenly spaced thresholds, for this SVM. You may use library function calls to create the ROC curve.\n",
    "\n",
    "**Implementation Notes:** For SVM, you do NOT need to add a column of 1's to the $\\mathbf{x}$ matrix to have an intercept term\n"
   ]
  },
  {
   "cell_type": "code",
   "execution_count": 81,
   "metadata": {
    "colab": {},
    "colab_type": "code",
    "id": "px1aGI12DOdV"
   },
   "outputs": [
    {
     "name": "stdout",
     "output_type": "stream",
     "text": [
      "Precision score =  0.9069767441860465\n",
      "Recall score =  0.8914285714285715\n",
      "F_1 score =  0.899135446685879\n",
      "Accuracy =  0.9239956568946797\n"
     ]
    },
    {
     "data": {
      "image/png": "[encoded data removed]",
      "text/plain": [
       "<Figure size 432x288 with 1 Axes>"
      ]
     },
     "metadata": {
      "needs_background": "light"
     },
     "output_type": "display_data"
    }
   ],
   "source": [
    "from sklearn.svm import LinearSVC\n",
    "\n",
    "# Training your svm here\n",
    "svm_clf = LinearSVC(C=1, loss=\"hinge\", random_state=42,max_iter=5000)\n",
    "svm_clf.fit(X_train, np.ravel(y_train))\n",
    "#I was given a warning here that the \"Liblinear failed to converge\". It recommended increasing the number of iterations\n",
    "\n",
    "y_pred = svm_clf.predict(X_test)\n",
    "\n",
    "from sklearn.metrics import precision_score, recall_score\n",
    "from sklearn.metrics import accuracy_score\n",
    "\n",
    "precision = precision_score(y_test,y_pred)\n",
    "recall = recall_score(y_test,y_pred)\n",
    "F = 2*((precision*recall)/(precision+recall))\n",
    "accuracy = accuracy_score(y_test,y_pred)\n",
    "\n",
    "print(\"Precision score = \", precision)\n",
    "print(\"Recall score = \", recall)\n",
    "print(\"F_1 score = \", F)\n",
    "print(\"Accuracy = \", accuracy)\n",
    "\n",
    "\n",
    "\n",
    "from sklearn.metrics import roc_curve\n",
    "import matplotlib.pyplot as plt\n",
    "\n",
    "#helper function to do plotting of roc curve\n",
    "def plot_roc_curve(fpr, tpr, label=None):\n",
    "    plt.plot(fpr, tpr, linewidth=2, label=label)\n",
    "    plt.plot([0, 1], [0, 1], 'k--')\n",
    "    plt.axis([0, 1, 0, 1])\n",
    "    plt.xlabel('False Positive Rate', fontsize=16)\n",
    "    plt.ylabel('True Positive Rate', fontsize=16)\n",
    "\n",
    "y_pred = svm_clf.decision_function(X_test)\n",
    "\n",
    "fpr, tpr, thresholds = roc_curve(y_test, y_pred)\n",
    "plot_roc_curve(fpr,tpr)\n",
    "plt.show()\n",
    "\n"
   ]
  },
  {
   "cell_type": "markdown",
   "metadata": {
    "colab_type": "text",
    "id": "xuP0zJxuDOdY"
   },
   "source": [
    "- - -\n",
    "## 3. TUNING REGULARIZATION HYPER-PARAMETER C (15 pts)\n",
    "Next, you will study the SVM tradeoff between margin and data violation by using different values of the C hyper-parameter. Your task is to run an experiment with different values of C on the spam dataset and report the performance measures similar to section 2. After running the experiment, you must provide some justifications on the reason you select a certain value of C. \n",
    "\n",
    "Hint: you can use cross validation for each value of C and then pick the value which yields the best performance."
   ]
  },
  {
   "cell_type": "code",
   "execution_count": 28,
   "metadata": {
    "colab": {},
    "colab_type": "code",
    "id": "zVGo0vStDOdZ",
    "scrolled": true
   },
   "outputs": [
    {
     "name": "stdout",
     "output_type": "stream",
     "text": [
      "Best score:  0.9274456521739131\n",
      "LinearSVC(C=10, class_weight=None, dual=True, fit_intercept=True,\n",
      "     intercept_scaling=1, loss='squared_hinge', max_iter=1000,\n",
      "     multi_class='ovr', penalty='l2', random_state=None, tol=0.0001,\n",
      "     verbose=0)\n"
     ]
    }
   ],
   "source": [
    "import warnings\n",
    "warnings.filterwarnings(\"ignore\")\n",
    "\n",
    "svm_clf = LinearSVC(C=.1, loss=\"hinge\", random_state=42,max_iter=5000)\n",
    "#svm_clf.fit(X_test, np.ravel(y_test))\n",
    "from sklearn.model_selection import cross_val_score\n",
    "from sklearn.model_selection import GridSearchCV\n",
    "\n",
    "param_grid = [{'C': [.001,.01, .1, 1, 10, 100]}]\n",
    "\n",
    "clf = GridSearchCV(LinearSVC(), param_grid, cv=5)\n",
    "clf.fit(X_train, np.ravel(y_train))\n",
    "\n",
    "print('Best score: ', clf.best_score_)\n",
    "best = clf.best_estimator_\n",
    "print(best)"
   ]
  },
  {
   "cell_type": "code",
   "execution_count": 29,
   "metadata": {},
   "outputs": [
    {
     "name": "stdout",
     "output_type": "stream",
     "text": [
      "Best score:  0.9293478260869565\n",
      "LinearSVC(C=10, class_weight=None, dual=True, fit_intercept=True,\n",
      "     intercept_scaling=1, loss='squared_hinge', max_iter=1000,\n",
      "     multi_class='ovr', penalty='l2', random_state=None, tol=0.0001,\n",
      "     verbose=0)\n"
     ]
    }
   ],
   "source": [
    "#with the best mean cross validation score (with 5 folds) at 10, I then run between 5 to 90 to refine C\n",
    "\n",
    "param_grid = [{'C': [5,10, 20, 30, 40, 50, 60, 70, 80, 90]}]\n",
    "clf = GridSearchCV(LinearSVC(), param_grid, cv=5)\n",
    "clf.fit(X_train, np.ravel(y_train))\n",
    "\n",
    "print('Best score: ', clf.best_score_)\n",
    "best = clf.best_estimator_\n",
    "print(best)"
   ]
  },
  {
   "cell_type": "code",
   "execution_count": 30,
   "metadata": {},
   "outputs": [
    {
     "name": "stdout",
     "output_type": "stream",
     "text": [
      "Best score:  0.928804347826087\n",
      "LinearSVC(C=6, class_weight=None, dual=True, fit_intercept=True,\n",
      "     intercept_scaling=1, loss='squared_hinge', max_iter=1000,\n",
      "     multi_class='ovr', penalty='l2', random_state=None, tol=0.0001,\n",
      "     verbose=0)\n"
     ]
    }
   ],
   "source": [
    "#With the best C still at 10, I refine the space to be between 5 to 15\n",
    "param_grid = [{'C': [5,6, 7, 8, 9, 10, 11, 12, 13, 14,15]}]\n",
    "clf = GridSearchCV(LinearSVC(), param_grid, cv=5)\n",
    "clf.fit(X_train, np.ravel(y_train))\n",
    "\n",
    "print('Best score: ', clf.best_score_)\n",
    "best = clf.best_estimator_\n",
    "print(best)"
   ]
  },
  {
   "cell_type": "code",
   "execution_count": 31,
   "metadata": {},
   "outputs": [
    {
     "name": "stdout",
     "output_type": "stream",
     "text": [
      "Best score:  0.9296195652173913\n",
      "LinearSVC(C=5.8, class_weight=None, dual=True, fit_intercept=True,\n",
      "     intercept_scaling=1, loss='squared_hinge', max_iter=1000,\n",
      "     multi_class='ovr', penalty='l2', random_state=None, tol=0.0001,\n",
      "     verbose=0)\n"
     ]
    }
   ],
   "source": [
    "#With the best C at 6, I refine the space to be between 5 to 7\n",
    "param_grid = [{'C': [5.2, 5.4, 5.6, 5.8, 6, 6.2, 6.4, 6.6, 6.8]}]\n",
    "clf = GridSearchCV(LinearSVC(), param_grid, cv=5)\n",
    "clf.fit(X_train, np.ravel(y_train))\n",
    "\n",
    "print('Best score: ', clf.best_score_)\n",
    "best = clf.best_estimator_\n",
    "print(best)"
   ]
  },
  {
   "cell_type": "markdown",
   "metadata": {},
   "source": [
    "I chose the optimal parameter C=5.8, as it has the highest mean cross validation score refined from range .01 to 100"
   ]
  },
  {
   "cell_type": "markdown",
   "metadata": {
    "colab_type": "text",
    "id": "gVZKVrW_DOdc"
   },
   "source": [
    "- - -\n",
    "## 4. SELECTING THE FEATURES WITH LINEAR SVM (20 pts)\n",
    "\n",
    "Once your learned a best linear SVM in previous sections, your next task is to find which are best features to classify spam. First, you must obtain the weight vector $\\mathbf{w}$ using the attribute $coef_$ of your SVM classifier. Then, for the number of features $n = 2$ to $57$, you will run the following in a loop:\n",
    "\n",
    "* Select a set of top $n$ features that have the highest weights\n",
    "* Train a classifier $\\text{SVM}_n$ on all training data, only using these $n$ features with the same hyperparameter C learn from section 3.\n",
    "* Test $\\text{SVM}_n$ on the test set (using the same $n$ features) to obtain accuracy.\n",
    "* Plot accuracy on test data vs. $n$ number of features\n",
    "\n",
    "Identify the top 5 features. Using the plot, discuss the effects of feature selection on the performance in a short paragraph (ie. How much better the performance becomes everytime one of top 5 features is added? Were the top spam features surprising to you?)  \n",
    "\n"
   ]
  },
  {
   "cell_type": "code",
   "execution_count": 65,
   "metadata": {},
   "outputs": [
    {
     "data": {
      "text/plain": [
       "['\\nword_freq_george',\n",
       " '\\nword_freq_cs',\n",
       " '\\nword_freq_hp',\n",
       " '\\ncapital_run_length_longest',\n",
       " '\\nword_freq_3d',\n",
       " '\\nword_freq_edu',\n",
       " '\\nchar_freq_$',\n",
       " '\\nword_freq_meeting',\n",
       " '\\nword_freq_remove',\n",
       " '\\nword_freq_85',\n",
       " '\\nword_freq_hpl',\n",
       " '\\nword_freq_project',\n",
       " '\\nchar_freq_#',\n",
       " '\\nword_freq_lab',\n",
       " '\\nword_freq_free',\n",
       " '\\nword_freq_000',\n",
       " '\\nword_freq_re',\n",
       " '\\ncapital_run_length_average',\n",
       " '\\nword_freq_857',\n",
       " '\\nchar_freq_!',\n",
       " '\\nword_freq_conference',\n",
       " '\\nword_freq_our',\n",
       " '\\nword_freq_credit',\n",
       " '\\nword_freq_technology',\n",
       " '\\ncapital_run_length_total\\n',\n",
       " '\\nword_freq_pm',\n",
       " '\\nword_freq_your',\n",
       " '\\nword_freq_data',\n",
       " '\\nword_freq_business',\n",
       " '\\nword_freq_money',\n",
       " '\\nword_freq_internet',\n",
       " '\\nword_freq_415',\n",
       " '\\nchar_freq_;',\n",
       " '\\nword_freq_order',\n",
       " '\\nword_freq_650',\n",
       " '\\nword_freq_over',\n",
       " '\\nword_freq_font',\n",
       " '\\nword_freq_email',\n",
       " 'word_freq_make',\n",
       " '\\nword_freq_labs',\n",
       " '\\nword_freq_receive',\n",
       " '\\nword_freq_parts',\n",
       " '\\nword_freq_direct',\n",
       " '\\nword_freq_will',\n",
       " '\\nchar_freq_[',\n",
       " '\\nword_freq_original',\n",
       " '\\nword_freq_addresses',\n",
       " '\\nchar_freq_(',\n",
       " '\\nword_freq_telnet',\n",
       " '\\nword_freq_1999',\n",
       " '\\nword_freq_people',\n",
       " '\\nword_freq_table',\n",
       " '\\nword_freq_you',\n",
       " '\\nword_freq_report',\n",
       " '\\nword_freq_all',\n",
       " '\\nword_freq_mail',\n",
       " '\\nword_freq_address']"
      ]
     },
     "execution_count": 65,
     "metadata": {},
     "output_type": "execute_result"
    }
   ],
   "source": [
    "#Finding the set of top n features\n",
    "accuracy_list = []\n",
    "\n",
    "svm_clf = LinearSVC(C=5.8, loss=\"hinge\", random_state=42,max_iter=5000)\n",
    "svm_clf.fit(X_train, np.ravel(y_train))\n",
    "svm_clf.coef_\n",
    "\n",
    "weights = abs(np.ravel(svm_clf.coef_))\n",
    "\n",
    "\n",
    "index = 0\n",
    "highest = 0\n",
    "\n",
    "for x in range(57):\n",
    "    highest = 0\n",
    "    for i in range(57):\n",
    "        if abs(weights[i]) > highest:\n",
    "            highest = weights[i]\n",
    "            index = i\n",
    "    accuracy_list.append(names[index])\n",
    "    weights[index] = 0\n",
    "#This gives a list with the names of the highest weights\n",
    "accuracy_list"
   ]
  },
  {
   "cell_type": "code",
   "execution_count": null,
   "metadata": {},
   "outputs": [],
   "source": [
    "#The list above, is sorted with highest absolute value weights at the top. \n",
    "#The top 5 features are:\n",
    "#George, cs, hp, capital_run_length_longest, and 3d\n",
    "#It is likely these features (with the majority being negative weights) have to do with the \n",
    "#person's job. George probably being the person's name."
   ]
  },
  {
   "cell_type": "code",
   "execution_count": 75,
   "metadata": {
    "colab": {},
    "colab_type": "code",
    "id": "dQ5xP9JfDOde"
   },
   "outputs": [],
   "source": [
    "# Your feature selection code goes here\n",
    "num_features = []\n",
    "acc_data = []\n",
    "svm_feature = LinearSVC(C=5.8, loss=\"hinge\", random_state=42,max_iter=5000)\n",
    "\n",
    "for i in range(1,57):\n",
    "    svm_feature.fit(X_train[accuracy_list[:i]], np.ravel(y_train))\n",
    "    y_pred = svm_feature.predict(X_test[accuracy_list[:i]])\n",
    "    num_features.append(i+1)\n",
    "    acc_data.append(accuracy_score(y_test,y_pred))"
   ]
  },
  {
   "cell_type": "code",
   "execution_count": 117,
   "metadata": {},
   "outputs": [
    {
     "data": {
      "text/plain": [
       "Text(0, 0.5, 'Accuracy Score')"
      ]
     },
     "execution_count": 117,
     "metadata": {},
     "output_type": "execute_result"
    },
    {
     "data": {
      "image/png": "[encoded data removed]",
      "text/plain": [
       "<Figure size 432x288 with 1 Axes>"
      ]
     },
     "metadata": {
      "needs_background": "light"
     },
     "output_type": "display_data"
    }
   ],
   "source": [
    "#plotting accuracy against number of features for first 10 features\n",
    "plt.plot(num_features, acc_data, linewidth=2, label=None)\n",
    "plt.axis([2, 5, 0, 1])\n",
    "plt.xlabel('Number of Features', fontsize=16)\n",
    "plt.ylabel('Accuracy Score', fontsize=16)"
   ]
  },
  {
   "cell_type": "code",
   "execution_count": 116,
   "metadata": {},
   "outputs": [
    {
     "data": {
      "text/plain": [
       "Text(0, 0.5, 'Accuracy Score')"
      ]
     },
     "execution_count": 116,
     "metadata": {},
     "output_type": "execute_result"
    },
    {
     "data": {
      "image/png": "[encoded data removed]",
      "text/plain": [
       "<Figure size 432x288 with 1 Axes>"
      ]
     },
     "metadata": {
      "needs_background": "light"
     },
     "output_type": "display_data"
    }
   ],
   "source": [
    "#plotting accuracy against number of features for all 57 features\n",
    "plt.plot(num_features, acc_data, linewidth=2, label=None)\n",
    "plt.axis([2, 57, 0, 1])\n",
    "plt.xlabel('Number of Features', fontsize=16)\n",
    "plt.ylabel('Accuracy Score', fontsize=16)"
   ]
  },
  {
   "cell_type": "markdown",
   "metadata": {},
   "source": [
    "# Your paragraph goes here for this section\n",
    "So from the first 2 features to the total 5, accuracy increased from around .6 to .8 which is an increase of .2. What\n",
    "was interesting to note was that the introduction of the 3rd feature did not seriously increase the accuracy of the\n",
    "model. Maybe the the third feature correlates well with the other 2? After the first spike to .8 from the first 5\n",
    "features, increasing the number of features has a increasing effect on the capability of the model up to around 20\n",
    "features. Afterwards, there appears to be little change with even a minimal decrease in capability at around 35\n",
    "features. In terms of any of the top 5 being suprising, none of the 5 mentioned features were at .3 or above correlation with the prediction when just looking at correlation. Since the model is using SVM to separate the groups, \n",
    "that is acceptable."
   ]
  },
  {
   "cell_type": "markdown",
   "metadata": {
    "colab_type": "text",
    "id": "24MaI6QpDOdh"
   },
   "source": [
    "- - -\n",
    "## 5. KERNELIZING SVM WITH THE GAUSSIAN RBF (30 pts)\n",
    "\n",
    "In this part of the asisgnment, you will be using SVMs to do non-linear classification. In particular, you will be using SVMs with Gaussian kernels on this dataset which is not linearly separable. \n",
    "\n",
    "$\n",
    "    \\mathbf{K}_{RBF}(\\mathbf{x}^{(i)},\\mathbf{x}^{(j)}) = \\exp(-\\gamma ||\\mathbf{x}^{(i)} -\\mathbf{x}^{(j)}||^2).\n",
    "$\n",
    "\n",
    "First, your task is to determine the best regularization $C$ and the spread of the Gaussian kernel $\\gamma$ hyperparameters to use. You can train the SVM on the training set and report the performance in metrics from section 2. By using different values of $C$ and $\\gamma$, you will be able to learn a good non-linear decision boundary that can perform reasonably well for this dataset. \n",
    "\n",
    "Next, you will compare the performance of this kernelized version of SVM and the of linear SVM in Section 3. You will need to plot out the performance in terms of accuracy, precision, and recall, and the ROC curve) for both. How much better does your non-linear SVM classifier perform comparing to a linear SVM? \n",
    "\n",
    "**Implementation Note:** When implementing cross validation to select the best C and $\\gamma$ parameter to use, you need to evaluate the error using cross validation.\n",
    "\n",
    "Finally, write a paragraph reporting on the final performance of your RBF kerneled SVM. Do you think the performance is adequate to be deployed in practice? Justify your reasons.\n",
    "\n",
    "\n"
   ]
  },
  {
   "cell_type": "code",
   "execution_count": 91,
   "metadata": {
    "colab": {},
    "colab_type": "code",
    "id": "j_CpEzmSDOdi"
   },
   "outputs": [
    {
     "name": "stdout",
     "output_type": "stream",
     "text": [
      "for C = 5.8 and gamma = 0.01, F_1 =  0.9175108538350216\n",
      "for C = 5.8 and gamma = 0.1, F_1 =  0.9061102831594636\n",
      "for C = 5.8 and gamma = 0.001, F_1 =  0.8963503649635035\n",
      "for C = 5.8 and gamma = 1, F_1 =  0.6962962962962963\n",
      "for C = 5.8 and gamma = .4, F_1 =  0.776831345826235\n",
      "Optimal gamma is likely between 0.001 to .1\n"
     ]
    }
   ],
   "source": [
    "from sklearn.svm import SVC\n",
    "# hyperparams = (gamma1, C1), (gamma1, C2), (gamma2, C1), (gamma2, C2), ...\n",
    "# for gamma, C in hyperparams:\n",
    "#rbf_kernel_svm_clf = SVC(kernel=\"rbf\", gamma=gamma, C=C))\n",
    "#rbf_kernel_svm_clf.fit(X_train, y_train)\n",
    "\n",
    "#    # Your code to train and find the best value of C and gamma here\n",
    "#Going to test for F-1 score\n",
    "#starting from optimal C from linear SVM\n",
    "\n",
    "#gamma 0.01, C= 5.8\n",
    "rbf_1 = SVC(kernel=\"rbf\", gamma=.01, C=5.8)\n",
    "rbf_1.fit(X_train,y_train)\n",
    "y_pred = rbf_1.predict(X_test)\n",
    "\n",
    "precision = precision_score(y_test,y_pred)\n",
    "recall = recall_score(y_test,y_pred)\n",
    "F = 2*((precision*recall)/(precision+recall))\n",
    "print(\"for C = 5.8 and gamma = 0.01, F_1 = \", F)\n",
    "\n",
    "#gamma 0.1, C = 5.8\n",
    "rbf_1 = SVC(kernel=\"rbf\", gamma=.1, C=5.8)\n",
    "rbf_1.fit(X_train,y_train)\n",
    "y_pred = rbf_1.predict(X_test)\n",
    "\n",
    "precision = precision_score(y_test,y_pred)\n",
    "recall = recall_score(y_test,y_pred)\n",
    "F = 2*((precision*recall)/(precision+recall))\n",
    "print(\"for C = 5.8 and gamma = 0.1, F_1 = \", F)\n",
    "\n",
    "\n",
    "#gamma 0.001, C = 5.8\n",
    "rbf_1 = SVC(kernel=\"rbf\", gamma=.001, C=5.8)\n",
    "rbf_1.fit(X_train,y_train)\n",
    "y_pred = rbf_1.predict(X_test)\n",
    "\n",
    "precision = precision_score(y_test,y_pred)\n",
    "recall = recall_score(y_test,y_pred)\n",
    "F = 2*((precision*recall)/(precision+recall))\n",
    "print(\"for C = 5.8 and gamma = 0.001, F_1 = \", F)\n",
    "\n",
    "#gamma 1, C = 5.8\n",
    "rbf_1 = SVC(kernel=\"rbf\", gamma=1, C=5.8)\n",
    "rbf_1.fit(X_train,y_train)\n",
    "y_pred = rbf_1.predict(X_test)\n",
    "\n",
    "precision = precision_score(y_test,y_pred)\n",
    "recall = recall_score(y_test,y_pred)\n",
    "F = 2*((precision*recall)/(precision+recall))\n",
    "print(\"for C = 5.8 and gamma = 1, F_1 = \", F)\n",
    "\n",
    "\n",
    "#gamma .4, C = 5.8\n",
    "rbf_1 = SVC(kernel=\"rbf\", gamma=.4, C=5.8)\n",
    "rbf_1.fit(X_train,y_train)\n",
    "y_pred = rbf_1.predict(X_test)\n",
    "\n",
    "precision = precision_score(y_test,y_pred)\n",
    "recall = recall_score(y_test,y_pred)\n",
    "F = 2*((precision*recall)/(precision+recall))\n",
    "print(\"for C = 5.8 and gamma = .4, F_1 = \", F)\n",
    "print(\"Optimal gamma is likely between 0.001 to .1\")\n",
    "\n"
   ]
  },
  {
   "cell_type": "code",
   "execution_count": 90,
   "metadata": {},
   "outputs": [
    {
     "name": "stdout",
     "output_type": "stream",
     "text": [
      "for C = 1 and gamma = .01, F_1 =  0.9101449275362319\n",
      "for C = 3 and gamma = .01, F_1 =  0.9117221418234442\n",
      "for C = 5 and gamma = .01, F_1 =  0.9130434782608695\n",
      "for C = 7 and gamma = .01, F_1 =  0.9190751445086706\n",
      "for C = 9 and gamma = .01, F_1 =  0.9206349206349207\n",
      "Higher C is leading to better score. Will test with higher range\n"
     ]
    }
   ],
   "source": [
    "#Optimal gamma is likely between 0.001 to .1, Testing other values of C here\n",
    "#Given C was optimal earlier at 5.8, will test in range 1-10 for C (using .01 for gamma)\n",
    "\n",
    "#gamma .01, C = 1\n",
    "rbf_1 = SVC(kernel=\"rbf\", gamma=.01, C=1)\n",
    "rbf_1.fit(X_train,y_train)\n",
    "y_pred = rbf_1.predict(X_test)\n",
    "\n",
    "precision = precision_score(y_test,y_pred)\n",
    "recall = recall_score(y_test,y_pred)\n",
    "F = 2*((precision*recall)/(precision+recall))\n",
    "print(\"for C = 1 and gamma = .01, F_1 = \", F)\n",
    "\n",
    "#gamma .01, C = 3\n",
    "rbf_1 = SVC(kernel=\"rbf\", gamma=.01, C=3)\n",
    "rbf_1.fit(X_train,y_train)\n",
    "y_pred = rbf_1.predict(X_test)\n",
    "\n",
    "precision = precision_score(y_test,y_pred)\n",
    "recall = recall_score(y_test,y_pred)\n",
    "F = 2*((precision*recall)/(precision+recall))\n",
    "print(\"for C = 3 and gamma = .01, F_1 = \", F)\n",
    "\n",
    "\n",
    "#gamma .01, C = 5\n",
    "rbf_1 = SVC(kernel=\"rbf\", gamma=.01, C=5)\n",
    "rbf_1.fit(X_train,y_train)\n",
    "y_pred = rbf_1.predict(X_test)\n",
    "\n",
    "precision = precision_score(y_test,y_pred)\n",
    "recall = recall_score(y_test,y_pred)\n",
    "F = 2*((precision*recall)/(precision+recall))\n",
    "print(\"for C = 5 and gamma = .01, F_1 = \", F)\n",
    "\n",
    "\n",
    "#gamma .01, C = 7\n",
    "rbf_1 = SVC(kernel=\"rbf\", gamma=.01, C=7)\n",
    "rbf_1.fit(X_train,y_train)\n",
    "y_pred = rbf_1.predict(X_test)\n",
    "\n",
    "precision = precision_score(y_test,y_pred)\n",
    "recall = recall_score(y_test,y_pred)\n",
    "F = 2*((precision*recall)/(precision+recall))\n",
    "print(\"for C = 7 and gamma = .01, F_1 = \", F)\n",
    "\n",
    "#gamma .01, C = 9\n",
    "rbf_1 = SVC(kernel=\"rbf\", gamma=.01, C=9)\n",
    "rbf_1.fit(X_train,y_train)\n",
    "y_pred = rbf_1.predict(X_test)\n",
    "\n",
    "precision = precision_score(y_test,y_pred)\n",
    "recall = recall_score(y_test,y_pred)\n",
    "F = 2*((precision*recall)/(precision+recall))\n",
    "print(\"for C = 9 and gamma = .01, F_1 = \", F)\n",
    "\n",
    "print(\"Higher C is leading to better score. Will test with higher range\")"
   ]
  },
  {
   "cell_type": "code",
   "execution_count": 95,
   "metadata": {},
   "outputs": [
    {
     "name": "stdout",
     "output_type": "stream",
     "text": [
      "for C = 10 and gamma = .01, F_1 =  0.9193083573487031\n",
      "for C = 30 and gamma = .01, F_1 =  0.9175108538350216\n",
      "for C = 50 and gamma = .01, F_1 =  0.9193083573487031\n",
      "for C = 80 and gamma = .01, F_1 =  0.9195402298850575\n",
      "C above 10 had a lower score than C = 9. C = 9 will be assumed to be reasonably optimal\n"
     ]
    }
   ],
   "source": [
    "#Higher C is leading to better scores. Will test from range 10-100\n",
    "\n",
    "#gamma .01, C = 10\n",
    "rbf_1 = SVC(kernel=\"rbf\", gamma=.01, C=10)\n",
    "rbf_1.fit(X_train,y_train)\n",
    "y_pred = rbf_1.predict(X_test)\n",
    "\n",
    "precision = precision_score(y_test,y_pred)\n",
    "recall = recall_score(y_test,y_pred)\n",
    "F = 2*((precision*recall)/(precision+recall))\n",
    "print(\"for C = 10 and gamma = .01, F_1 = \", F)\n",
    "\n",
    "#gamma .01, C = 30\n",
    "rbf_1 = SVC(kernel=\"rbf\", gamma=.01, C=30)\n",
    "rbf_1.fit(X_train,y_train)\n",
    "y_pred = rbf_1.predict(X_test)\n",
    "\n",
    "precision = precision_score(y_test,y_pred)\n",
    "recall = recall_score(y_test,y_pred)\n",
    "F = 2*((precision*recall)/(precision+recall))\n",
    "print(\"for C = 30 and gamma = .01, F_1 = \", F)\n",
    "\n",
    "#gamma .01, C = 50\n",
    "rbf_1 = SVC(kernel=\"rbf\", gamma=.01, C=50)\n",
    "rbf_1.fit(X_train,y_train)\n",
    "y_pred = rbf_1.predict(X_test)\n",
    "\n",
    "precision = precision_score(y_test,y_pred)\n",
    "recall = recall_score(y_test,y_pred)\n",
    "F = 2*((precision*recall)/(precision+recall))\n",
    "print(\"for C = 50 and gamma = .01, F_1 = \", F)\n",
    "\n",
    "#gamma .01, C = 80\n",
    "rbf_1 = SVC(kernel=\"rbf\", gamma=.01, C=80)\n",
    "rbf_1.fit(X_train,y_train)\n",
    "y_pred = rbf_1.predict(X_test)\n",
    "\n",
    "precision = precision_score(y_test,y_pred)\n",
    "recall = recall_score(y_test,y_pred)\n",
    "F = 2*((precision*recall)/(precision+recall))\n",
    "print(\"for C = 80 and gamma = .01, F_1 = \", F)\n",
    "print(\"C above 10 had a lower score than C = 9. C = 9 will be assumed to be reasonably optimal\")"
   ]
  },
  {
   "cell_type": "code",
   "execution_count": 108,
   "metadata": {},
   "outputs": [
    {
     "name": "stdout",
     "output_type": "stream",
     "text": [
      "for C = 9 and gamma = .005, F_1 =  0.9135446685878962\n",
      "for C = 9 and gamma = .008, F_1 =  0.9190751445086706\n",
      "for C = 9 and gamma = .01, F_1 =  0.9206349206349207\n",
      "for C = 9 and gamma = .013, F_1 =  0.9190751445086706\n",
      "for C = 9 and gamma = .015, F_1 =  0.918840579710145\n",
      "F-1 reaches it's max at gamma 0.01, so that gamma will be chosen\n"
     ]
    }
   ],
   "source": [
    "#Now focusing on refining gamma\n",
    "#gamma .005, C = 9\n",
    "rbf_1 = SVC(kernel=\"rbf\", gamma=.005, C=9)\n",
    "rbf_1.fit(X_train,y_train)\n",
    "y_pred = rbf_1.predict(X_test)\n",
    "\n",
    "precision = precision_score(y_test,y_pred)\n",
    "recall = recall_score(y_test,y_pred)\n",
    "F = 2*((precision*recall)/(precision+recall))\n",
    "print(\"for C = 9 and gamma = .005, F_1 = \", F)\n",
    "\n",
    "#gamma .008, C = 9\n",
    "rbf_1 = SVC(kernel=\"rbf\", gamma=.008, C=9)\n",
    "rbf_1.fit(X_train,y_train)\n",
    "y_pred = rbf_1.predict(X_test)\n",
    "\n",
    "precision = precision_score(y_test,y_pred)\n",
    "recall = recall_score(y_test,y_pred)\n",
    "F = 2*((precision*recall)/(precision+recall))\n",
    "print(\"for C = 9 and gamma = .008, F_1 = \", F)\n",
    "\n",
    "#gamma .01, C = 9\n",
    "rbf_1 = SVC(kernel=\"rbf\", gamma=.01, C=9)\n",
    "rbf_1.fit(X_train,y_train)\n",
    "y_pred = rbf_1.predict(X_test)\n",
    "\n",
    "precision = precision_score(y_test,y_pred)\n",
    "recall = recall_score(y_test,y_pred)\n",
    "F = 2*((precision*recall)/(precision+recall))\n",
    "print(\"for C = 9 and gamma = .01, F_1 = \", F)\n",
    "\n",
    "#gamma .013, C = 9\n",
    "rbf_1 = SVC(kernel=\"rbf\", gamma=.013, C=9)\n",
    "rbf_1.fit(X_train,y_train)\n",
    "y_pred = rbf_1.predict(X_test)\n",
    "\n",
    "precision = precision_score(y_test,y_pred)\n",
    "recall = recall_score(y_test,y_pred)\n",
    "F = 2*((precision*recall)/(precision+recall))\n",
    "print(\"for C = 9 and gamma = .013, F_1 = \", F)\n",
    "\n",
    "#gamma .015, C = 9\n",
    "rbf_1 = SVC(kernel=\"rbf\", gamma=.015, C=9)\n",
    "rbf_1.fit(X_train,y_train)\n",
    "y_pred = rbf_1.predict(X_test)\n",
    "\n",
    "precision = precision_score(y_test,y_pred)\n",
    "recall = recall_score(y_test,y_pred)\n",
    "F = 2*((precision*recall)/(precision+recall))\n",
    "print(\"for C = 9 and gamma = .015, F_1 = \", F)\n",
    "print(\"F-1 reaches it's max at gamma 0.01, so that gamma will be chosen\")"
   ]
  },
  {
   "cell_type": "markdown",
   "metadata": {},
   "source": [
    "Using the F-1 score and guess and check, the boundary for a reasonable C and gamma was restricted to C = 9, gamma = .01. Below I will show the results of the various metrics on the two models created."
   ]
  },
  {
   "cell_type": "code",
   "execution_count": 109,
   "metadata": {},
   "outputs": [
    {
     "name": "stdout",
     "output_type": "stream",
     "text": [
      "precision score for linear model =  0.9125364431486881\n",
      "precision score for nonlinear model =  0.9323529411764706\n",
      "recall score for linear model =  0.8942857142857142\n",
      "recall score for nonlinear model =  0.9057142857142857\n",
      "accuracy score for linear model =  0.9272529858849077\n",
      "accuracy score for nonlinear model =  0.9391965255157437\n"
     ]
    }
   ],
   "source": [
    "svm_clf = LinearSVC(C=5.8, loss=\"hinge\", random_state=42,max_iter=5000)\n",
    "rbf_1 = SVC(kernel=\"rbf\", gamma=.015, C=9)\n",
    "\n",
    "svm_clf.fit(X_train,y_train)\n",
    "rbf_1.fit(X_train,y_train)\n",
    "\n",
    "y_predl = svm_clf.predict(X_test)\n",
    "y_prednl = rbf_1.predict(X_test)\n",
    "\n",
    "precision = precision_score(y_test,y_pred)\n",
    "recall = recall_score(y_test,y_pred)\n",
    "\n",
    "print(\"precision score for linear model = \", precision_score(y_test,y_predl))\n",
    "print(\"precision score for nonlinear model = \", precision_score(y_test,y_prednl))\n",
    "print(\"recall score for linear model = \", recall_score(y_test,y_predl))\n",
    "print(\"recall score for nonlinear model = \", recall_score(y_test,y_prednl))\n",
    "print(\"accuracy score for linear model = \", accuracy_score(y_test,y_predl))\n",
    "print(\"accuracy score for nonlinear model = \", accuracy_score(y_test,y_prednl))\n",
    "\n",
    "\n"
   ]
  },
  {
   "cell_type": "code",
   "execution_count": 115,
   "metadata": {},
   "outputs": [
    {
     "data": {
      "image/png": "[encoded data removed]",
      "text/plain": [
       "<Figure size 432x288 with 1 Axes>"
      ]
     },
     "metadata": {
      "needs_background": "light"
     },
     "output_type": "display_data"
    }
   ],
   "source": [
    "#Plotting the 2 roc curves\n",
    "def plot_roc_curve(fpr, tpr, fp, tp, label=None):\n",
    "    plt.plot(fpr, tpr, linewidth=2, label=\"linear\")\n",
    "    plt.plot(fp, tp, linewidth=2, label=\"nonlinear\")\n",
    "    plt.plot([0, 1], [0, 1], 'k--')\n",
    "    plt.axis([0, .6, 0, 1])\n",
    "    plt.legend(loc=\"lower right\", fontsize=16)\n",
    "    plt.xlabel('False Positive Rate', fontsize=16)\n",
    "    plt.ylabel('True Positive Rate', fontsize=16)\n",
    "\n",
    "y_predl = svm_clf.decision_function(X_test)\n",
    "y_prednl = rbf_1.decision_function(X_test)\n",
    "\n",
    "fpr, tpr, thresholds = roc_curve(y_test, y_predl)\n",
    "fp, tp, threshold = roc_curve(y_test, y_prednl)\n",
    "plot_roc_curve(fpr,tpr, fp, tp)\n",
    "plt.show()"
   ]
  },
  {
   "cell_type": "markdown",
   "metadata": {},
   "source": [
    "I did not push the axis of the false positive rate all the way to 1 as both models \"lines\" reached 1 TPR around or before 0.6.The resultant ROC curves shows a superior nonlinear plot as it is above or equivalent to the linear curve at all points. In precision, the nonlinear model was .02 higher than the linear model. In Recall, the nonlinear model is around .006 greater than the linear model. In Accuracy, the nonlinear model is around .01 superior to the linear model.\n",
    "\n",
    "I am unsure whether it would be appropriate to deploy the model for the individual. For the general public I would be against it since specific terms possibly relating to identity or job are used highly in weighting whether it is spam or not (for the specific person in this case). The model is precise at .9, but that .1 is still significant. Model accuracy being at around .94 is good, but that .06 of emails that may be misclassified is an issue. It would thus depend on how secure the email must be. If it must be highly secure, I would err on the side of misclassification against an email, and thus this model would be fine. If the individual did not want to miss any relevant emails, this model would not be good enough. "
   ]
  },
  {
   "cell_type": "markdown",
   "metadata": {
    "colab_type": "text",
    "id": "0dAOq5_mDOdk"
   },
   "source": [
    "- - - \n",
    "### NEED HELP?"
   ]
  },
  {
   "cell_type": "markdown",
   "metadata": {
    "colab_type": "text",
    "id": "RPjDDoYaDOdk"
   },
   "source": [
    "In case you get stuck in any step in the process, you may find some useful information from:\n",
    "\n",
    " * Consult my [lecture 6](https://drive.google.com/open?id=1CeBhepjDKBaFBq2BZq-zNQs-MC8ll7aL4qAF8TJ24FM) and [lecture 6b](https://drive.google.com/open?id=13BidUAs_c2QdZkf92axt2S748sbnbI9Hgxg-fzb-OuU) and/or the textbook\n",
    " * Talk to the TA, they are available and there to help you during [office hour](https://docs.google.com/document/d/15qB84xjaS-uRJmfKmmQuCz38bLMFaoqdbuRLoZEdOYI/edit#heading=h.72k1pvft525n)\n",
    " * Come talk to me or email me <nn4pj@virginia.edu> with subject starting \"CS4501 Assignment 2:...\".\n",
    "\n",
    "Best of luck and have fun!"
   ]
  },
  {
   "cell_type": "code",
   "execution_count": 0,
   "metadata": {
    "colab": {},
    "colab_type": "code",
    "id": "Uai_6f-jDOdl"
   },
   "outputs": [],
   "source": []
  }
 ],
 "metadata": {
  "colab": {
   "name": "CS 4501 Assignment 2.ipynb",
   "provenance": [],
   "version": "0.3.2"
  },
  "kernelspec": {
   "display_name": "Python 3",
   "language": "python",
   "name": "python3"
  },
  "language_info": {
   "codemirror_mode": {
    "name": "ipython",
    "version": 3
   },
   "file_extension": ".py",
   "mimetype": "text/x-python",
   "name": "python",
   "nbconvert_exporter": "python",
   "pygments_lexer": "ipython3",
   "version": "3.7.2"
  }
 },
 "nbformat": 4,
 "nbformat_minor": 1
}
